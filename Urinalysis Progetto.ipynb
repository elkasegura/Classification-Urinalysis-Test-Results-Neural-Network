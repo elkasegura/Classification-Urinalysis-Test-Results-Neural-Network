{
 "cells": [
  {
   "cell_type": "markdown",
   "id": "49b7c826-e253-402e-99a8-163ce12e5421",
   "metadata": {},
   "source": [
    "## INTRODUZIONE\n",
    "Il cervello umano è ciò che ispira l’architettura delle reti neurali. Le cellule del cervello umano, chiamate neuroni, formano una rete complessa e altamente interconnessa e si inviano segnali elettrici tra loro per aiutare gli esseri umani a elaborare le informazioni. Allo stesso modo, una rete neurale artificiale è costituita da neuroni artificiali che lavorano insieme per risolvere un problema. I neuroni artificiali sono moduli software, chiamati nodi, e le reti neurali artificiali sono programmi software o algoritmi che utilizzano essenzialmente sistemi informatici per risolvere calcoli matematici.\n",
    "Le reti neurali sono costituite da neuroni, che a loro volta sono raggruppati in strati: ogni neurone di ogni strato è connesso a tutti i neuroni dello strato precedente. In ogni neurone verranno effettuate una serie di operazioni che, ottimizzando, faremo sì che la nostra rete impari. \n",
    "Questo lavoro consiste nel costruire una rete neurale che preveda la classificazione del test UTIs, delle infezioni delle vie urinarie. Le infezioni del tratto urinario possono essere analizzate analizzando un tratto urinario. L'urina viene esaminata al microscopio per identificare batteri o globuli bianchi, che indicano un'infezione. Il medico può anche seguire un sistema urinario. Questo test esamina l'urina per raccogliere e identificare batteri e infezioni che possono causare infezioni del tratto urinario.\n",
    "L'insieme dei dati che utilizziamo è stato raccolto da una clinica locale nel Mindanao settentrionale, nelle Filippine, ed è compreso tra aprile 2020 e gennaio 2023.\n",
    "Il set di dati è composto da 1436 righe × 16 colonne\n",
    "* Age (l'età del paziente) Nota: alcuni pazienti hanno mesi, quindi l'età di questi pazienti viene preelaborata dividendola per cento) ad esempio, 8 MESI, 8/100 = 0,08\n",
    "* Gender (Il sesso del paziente) Nota: maschio o femmina \n",
    "* Color (colore dell'urina)\n",
    "* Transparency (trasparenza delle urine)\n",
    "* Glucose (il glucosio è un tipo di zucchero e la sua presenza nelle urine può essere un indicatore importante di determinate condizioni di salute)\n",
    "* Protein (la presenza di proteine nelle urine è uno dei parametri esaminati per valutare la funzionalità renale e rilevarne le potenzialità)\n",
    "* pH (il livello del pH misura l'acidità o l'alcalinità delle urine)\n",
    "* Specific Gravity (la gravità specifica dell'urina è una misura della concentrazione di particelle nell'urina rispetto all'acqua)\n",
    "* WBC (White Blood Cells) Nota: noti anche come leucociti, i globuli bianchi sono una parte cruciale del sistema immunitario)\n",
    "* RBC (Red Blood Cells) Nota: i globuli rossi sono responsabili del trasporto dell'ossigeno in tutto il corpo\n",
    "* Epithelial Cells (le cellule epiteliali sono cellule che rivestono le superfici e le cavità del corpo, compreso il tratto urinario)\n",
    "* Mucous Threads (i fili mucosi sono filamenti di muco che possono essere presenti nelle urine)\n",
    "* Amorphous Urates (gli urati amorfi sono formazioni non cristalline nelle urine costituite da acido urico)\n",
    "* Bacteria (presenza di batteri nelle urine)\n",
    "* Diagnosis (UTI Diagnosis) NEGATIVE o POSITIVE"
   ]
  },
  {
   "cell_type": "code",
   "execution_count": 5,
   "id": "d187f369",
   "metadata": {},
   "outputs": [
    {
     "name": "stdout",
     "output_type": "stream",
     "text": [
      "(1436, 16)\n",
      "<class 'pandas.core.frame.DataFrame'>\n",
      "Index: 1435 entries, 0 to 1435\n",
      "Data columns (total 15 columns):\n",
      " #   Column            Non-Null Count  Dtype  \n",
      "---  ------            --------------  -----  \n",
      " 0   Age               1435 non-null   float64\n",
      " 1   Gender            1435 non-null   object \n",
      " 2   Color             1435 non-null   object \n",
      " 3   Transparency      1435 non-null   object \n",
      " 4   Glucose           1435 non-null   object \n",
      " 5   Protein           1435 non-null   object \n",
      " 6   pH                1435 non-null   float64\n",
      " 7   Specific Gravity  1435 non-null   float64\n",
      " 8   WBC               1435 non-null   object \n",
      " 9   RBC               1435 non-null   object \n",
      " 10  Epithelial Cells  1435 non-null   object \n",
      " 11  Mucous Threads    1435 non-null   object \n",
      " 12  Amorphous Urates  1435 non-null   object \n",
      " 13  Bacteria          1435 non-null   object \n",
      " 14  Diagnosis         1435 non-null   object \n",
      "dtypes: float64(3), object(12)\n",
      "memory usage: 179.4+ KB\n"
     ]
    }
   ],
   "source": [
    "import pandas as pd\n",
    "import numpy as np\n",
    "archivo = 'C:/Users/2davi/OneDrive/Desktop/2 Anno/Statistica Per la Azienda(COZZUCOLI)/Progetto 2/urinalysis_tests.csv'\n",
    "df = pd.read_csv(archivo, delimiter=',')\n",
    "print(df.shape) \n",
    "df.drop(df.columns[0:1], axis=1, inplace=True)\n",
    "df = df.dropna()\n",
    "df.info()"
   ]
  },
  {
   "cell_type": "markdown",
   "id": "c380e5c7-dd74-4c69-8b5f-b9136091f3a8",
   "metadata": {},
   "source": [
    "## PRE-PROCESSING DEI DATI\n",
    "Il pre-processing dei dati si riferisce alla trasformazione dei dati grezzi in un formato più adatto e comprensibile per l'algoritmo. Questo processo include la gestione dei valori nulli, la normalizzazione delle variabili munerici, la codifica delle variabili categoriali e la gestione dei valori anomali. Per questo set di dati sono stati controllati i valori nulli e ne è stato ottenuto uno, per il quale è stata rimossa l'intera riga.\n",
    "Con la funzione info() sono stati ottenuti i tipi di dati per ciascuna variabile nel set di dati. Abbiamo 3 variabili [Age, pH, Specific Gravity] che sono numeriche, mentre le restanti 12 variabili sono categoriali. [Gender, Transparency, Glucose, Protein, WBC, RBC, Epithelial Cells, Mucous Threads, Amorphous Urates, Bateria, Diagnosis]"
   ]
  },
  {
   "cell_type": "code",
   "execution_count": 6,
   "id": "648cd42c-4b37-4665-b45d-897ae853bb93",
   "metadata": {},
   "outputs": [
    {
     "data": {
      "text/html": [
       "<div>\n",
       "<style scoped>\n",
       "    .dataframe tbody tr th:only-of-type {\n",
       "        vertical-align: middle;\n",
       "    }\n",
       "\n",
       "    .dataframe tbody tr th {\n",
       "        vertical-align: top;\n",
       "    }\n",
       "\n",
       "    .dataframe thead th {\n",
       "        text-align: right;\n",
       "    }\n",
       "</style>\n",
       "<table border=\"1\" class=\"dataframe\">\n",
       "  <thead>\n",
       "    <tr style=\"text-align: right;\">\n",
       "      <th></th>\n",
       "      <th>Age</th>\n",
       "      <th>Gender</th>\n",
       "      <th>Color</th>\n",
       "      <th>Transparency</th>\n",
       "      <th>Glucose</th>\n",
       "      <th>Protein</th>\n",
       "      <th>pH</th>\n",
       "      <th>Specific Gravity</th>\n",
       "      <th>WBC</th>\n",
       "      <th>RBC</th>\n",
       "      <th>Epithelial Cells</th>\n",
       "      <th>Mucous Threads</th>\n",
       "      <th>Amorphous Urates</th>\n",
       "      <th>Bacteria</th>\n",
       "      <th>Diagnosis</th>\n",
       "    </tr>\n",
       "  </thead>\n",
       "  <tbody>\n",
       "    <tr>\n",
       "      <th>0</th>\n",
       "      <td>76.0</td>\n",
       "      <td>FEMALE</td>\n",
       "      <td>LIGHT YELLOW</td>\n",
       "      <td>CLEAR</td>\n",
       "      <td>NEGATIVE</td>\n",
       "      <td>NEGATIVE</td>\n",
       "      <td>5.0</td>\n",
       "      <td>1.010</td>\n",
       "      <td>1-3</td>\n",
       "      <td>0-2</td>\n",
       "      <td>OCCASIONAL</td>\n",
       "      <td>RARE</td>\n",
       "      <td>NONE SEEN</td>\n",
       "      <td>OCCASIONAL</td>\n",
       "      <td>NEGATIVE</td>\n",
       "    </tr>\n",
       "    <tr>\n",
       "      <th>1</th>\n",
       "      <td>9.0</td>\n",
       "      <td>MALE</td>\n",
       "      <td>DARK YELLOW</td>\n",
       "      <td>SLIGHTLY HAZY</td>\n",
       "      <td>NEGATIVE</td>\n",
       "      <td>1+</td>\n",
       "      <td>5.0</td>\n",
       "      <td>1.030</td>\n",
       "      <td>1-3</td>\n",
       "      <td>0-2</td>\n",
       "      <td>RARE</td>\n",
       "      <td>FEW</td>\n",
       "      <td>FEW</td>\n",
       "      <td>MODERATE</td>\n",
       "      <td>NEGATIVE</td>\n",
       "    </tr>\n",
       "    <tr>\n",
       "      <th>2</th>\n",
       "      <td>12.0</td>\n",
       "      <td>MALE</td>\n",
       "      <td>LIGHT YELLOW</td>\n",
       "      <td>SLIGHTLY HAZY</td>\n",
       "      <td>NEGATIVE</td>\n",
       "      <td>TRACE</td>\n",
       "      <td>5.0</td>\n",
       "      <td>1.030</td>\n",
       "      <td>0-3</td>\n",
       "      <td>0-2</td>\n",
       "      <td>RARE</td>\n",
       "      <td>FEW</td>\n",
       "      <td>MODERATE</td>\n",
       "      <td>RARE</td>\n",
       "      <td>NEGATIVE</td>\n",
       "    </tr>\n",
       "    <tr>\n",
       "      <th>3</th>\n",
       "      <td>77.0</td>\n",
       "      <td>MALE</td>\n",
       "      <td>BROWN</td>\n",
       "      <td>CLOUDY</td>\n",
       "      <td>NEGATIVE</td>\n",
       "      <td>1+</td>\n",
       "      <td>6.0</td>\n",
       "      <td>1.020</td>\n",
       "      <td>5-8</td>\n",
       "      <td>LOADED</td>\n",
       "      <td>RARE</td>\n",
       "      <td>RARE</td>\n",
       "      <td>NONE SEEN</td>\n",
       "      <td>FEW</td>\n",
       "      <td>NEGATIVE</td>\n",
       "    </tr>\n",
       "    <tr>\n",
       "      <th>4</th>\n",
       "      <td>29.0</td>\n",
       "      <td>FEMALE</td>\n",
       "      <td>YELLOW</td>\n",
       "      <td>HAZY</td>\n",
       "      <td>NEGATIVE</td>\n",
       "      <td>TRACE</td>\n",
       "      <td>6.0</td>\n",
       "      <td>1.025</td>\n",
       "      <td>1-4</td>\n",
       "      <td>0-2</td>\n",
       "      <td>RARE</td>\n",
       "      <td>RARE</td>\n",
       "      <td>NONE SEEN</td>\n",
       "      <td>FEW</td>\n",
       "      <td>NEGATIVE</td>\n",
       "    </tr>\n",
       "  </tbody>\n",
       "</table>\n",
       "</div>"
      ],
      "text/plain": [
       "    Age  Gender         Color   Transparency   Glucose   Protein   pH  \\\n",
       "0  76.0  FEMALE  LIGHT YELLOW          CLEAR  NEGATIVE  NEGATIVE  5.0   \n",
       "1   9.0    MALE   DARK YELLOW  SLIGHTLY HAZY  NEGATIVE        1+  5.0   \n",
       "2  12.0    MALE  LIGHT YELLOW  SLIGHTLY HAZY  NEGATIVE     TRACE  5.0   \n",
       "3  77.0    MALE         BROWN         CLOUDY  NEGATIVE        1+  6.0   \n",
       "4  29.0  FEMALE        YELLOW           HAZY  NEGATIVE     TRACE  6.0   \n",
       "\n",
       "   Specific Gravity  WBC     RBC Epithelial Cells Mucous Threads  \\\n",
       "0             1.010  1-3     0-2       OCCASIONAL           RARE   \n",
       "1             1.030  1-3     0-2             RARE            FEW   \n",
       "2             1.030  0-3     0-2             RARE            FEW   \n",
       "3             1.020  5-8  LOADED             RARE           RARE   \n",
       "4             1.025  1-4     0-2             RARE           RARE   \n",
       "\n",
       "  Amorphous Urates    Bacteria Diagnosis  \n",
       "0        NONE SEEN  OCCASIONAL  NEGATIVE  \n",
       "1              FEW    MODERATE  NEGATIVE  \n",
       "2         MODERATE        RARE  NEGATIVE  \n",
       "3        NONE SEEN         FEW  NEGATIVE  \n",
       "4        NONE SEEN         FEW  NEGATIVE  "
      ]
     },
     "execution_count": 6,
     "metadata": {},
     "output_type": "execute_result"
    }
   ],
   "source": [
    "df.head()"
   ]
  },
  {
   "cell_type": "markdown",
   "id": "fe177bbe-fc11-487b-8870-f2327bf547d3",
   "metadata": {},
   "source": [
    "Con la funzione describe() abbiamo ottenuto il minimo, il massimo, la media e altri valori delle variabili numeriche. Come avevamo accennato in precedenza,dobbiamo standardizzare i dati che saranno input nella nostra rete neurale. Per le variabili numeriche useremo normalizzazione min-max. Questa tecnica ridimensiona i valori dei dati in modo che rientrino in un intervallo specifico, ad esempio tra 0 e 1. Ciò si ottiene utilizzando la formula:\n",
    "X_norma = (X - X_min) / (X_max - X_min)\n",
    "Dove X è il valore originale, X_min è il valore minimo e X_max è il valore massimo.\n",
    "La normalizzazione min-max è utile quando i dati hanno scale diverse e si desidera confrontare o mettere in relazione le variabili tra loro. Questa tecnica garantisce che tutti i dati siano nello stesso intervallo e impedisce che le variabili con valori più grandi dominino il modello."
   ]
  },
  {
   "cell_type": "code",
   "execution_count": 7,
   "id": "cf4cb3bd-3427-478f-b48a-b882ffe27992",
   "metadata": {},
   "outputs": [
    {
     "data": {
      "text/html": [
       "<div>\n",
       "<style scoped>\n",
       "    .dataframe tbody tr th:only-of-type {\n",
       "        vertical-align: middle;\n",
       "    }\n",
       "\n",
       "    .dataframe tbody tr th {\n",
       "        vertical-align: top;\n",
       "    }\n",
       "\n",
       "    .dataframe thead th {\n",
       "        text-align: right;\n",
       "    }\n",
       "</style>\n",
       "<table border=\"1\" class=\"dataframe\">\n",
       "  <thead>\n",
       "    <tr style=\"text-align: right;\">\n",
       "      <th></th>\n",
       "      <th>Age</th>\n",
       "      <th>pH</th>\n",
       "      <th>Specific Gravity</th>\n",
       "    </tr>\n",
       "  </thead>\n",
       "  <tbody>\n",
       "    <tr>\n",
       "      <th>count</th>\n",
       "      <td>1435.000000</td>\n",
       "      <td>1435.000000</td>\n",
       "      <td>1435.000000</td>\n",
       "    </tr>\n",
       "    <tr>\n",
       "      <th>mean</th>\n",
       "      <td>27.213937</td>\n",
       "      <td>6.052962</td>\n",
       "      <td>1.015847</td>\n",
       "    </tr>\n",
       "    <tr>\n",
       "      <th>std</th>\n",
       "      <td>23.466950</td>\n",
       "      <td>0.598682</td>\n",
       "      <td>0.007287</td>\n",
       "    </tr>\n",
       "    <tr>\n",
       "      <th>min</th>\n",
       "      <td>0.010000</td>\n",
       "      <td>5.000000</td>\n",
       "      <td>1.005000</td>\n",
       "    </tr>\n",
       "    <tr>\n",
       "      <th>25%</th>\n",
       "      <td>6.000000</td>\n",
       "      <td>6.000000</td>\n",
       "      <td>1.010000</td>\n",
       "    </tr>\n",
       "    <tr>\n",
       "      <th>50%</th>\n",
       "      <td>23.000000</td>\n",
       "      <td>6.000000</td>\n",
       "      <td>1.015000</td>\n",
       "    </tr>\n",
       "    <tr>\n",
       "      <th>75%</th>\n",
       "      <td>45.000000</td>\n",
       "      <td>6.500000</td>\n",
       "      <td>1.020000</td>\n",
       "    </tr>\n",
       "    <tr>\n",
       "      <th>max</th>\n",
       "      <td>92.000000</td>\n",
       "      <td>8.000000</td>\n",
       "      <td>1.030000</td>\n",
       "    </tr>\n",
       "  </tbody>\n",
       "</table>\n",
       "</div>"
      ],
      "text/plain": [
       "               Age           pH  Specific Gravity\n",
       "count  1435.000000  1435.000000       1435.000000\n",
       "mean     27.213937     6.052962          1.015847\n",
       "std      23.466950     0.598682          0.007287\n",
       "min       0.010000     5.000000          1.005000\n",
       "25%       6.000000     6.000000          1.010000\n",
       "50%      23.000000     6.000000          1.015000\n",
       "75%      45.000000     6.500000          1.020000\n",
       "max      92.000000     8.000000          1.030000"
      ]
     },
     "execution_count": 7,
     "metadata": {},
     "output_type": "execute_result"
    }
   ],
   "source": [
    "df.describe()"
   ]
  },
  {
   "cell_type": "code",
   "execution_count": 8,
   "id": "4cebbfe4-a50c-44cc-8a9c-771ba595e520",
   "metadata": {},
   "outputs": [
    {
     "data": {
      "text/html": [
       "<div>\n",
       "<style scoped>\n",
       "    .dataframe tbody tr th:only-of-type {\n",
       "        vertical-align: middle;\n",
       "    }\n",
       "\n",
       "    .dataframe tbody tr th {\n",
       "        vertical-align: top;\n",
       "    }\n",
       "\n",
       "    .dataframe thead th {\n",
       "        text-align: right;\n",
       "    }\n",
       "</style>\n",
       "<table border=\"1\" class=\"dataframe\">\n",
       "  <thead>\n",
       "    <tr style=\"text-align: right;\">\n",
       "      <th></th>\n",
       "      <th>Age</th>\n",
       "      <th>pH</th>\n",
       "      <th>Specific Gravity</th>\n",
       "    </tr>\n",
       "  </thead>\n",
       "  <tbody>\n",
       "    <tr>\n",
       "      <th>count</th>\n",
       "      <td>1435.000000</td>\n",
       "      <td>1435.000000</td>\n",
       "      <td>1435.000000</td>\n",
       "    </tr>\n",
       "    <tr>\n",
       "      <th>mean</th>\n",
       "      <td>0.295727</td>\n",
       "      <td>0.350987</td>\n",
       "      <td>0.433868</td>\n",
       "    </tr>\n",
       "    <tr>\n",
       "      <th>std</th>\n",
       "      <td>0.255103</td>\n",
       "      <td>0.199561</td>\n",
       "      <td>0.291481</td>\n",
       "    </tr>\n",
       "    <tr>\n",
       "      <th>min</th>\n",
       "      <td>0.000000</td>\n",
       "      <td>0.000000</td>\n",
       "      <td>0.000000</td>\n",
       "    </tr>\n",
       "    <tr>\n",
       "      <th>25%</th>\n",
       "      <td>0.065116</td>\n",
       "      <td>0.333333</td>\n",
       "      <td>0.200000</td>\n",
       "    </tr>\n",
       "    <tr>\n",
       "      <th>50%</th>\n",
       "      <td>0.249918</td>\n",
       "      <td>0.333333</td>\n",
       "      <td>0.400000</td>\n",
       "    </tr>\n",
       "    <tr>\n",
       "      <th>75%</th>\n",
       "      <td>0.489075</td>\n",
       "      <td>0.500000</td>\n",
       "      <td>0.600000</td>\n",
       "    </tr>\n",
       "    <tr>\n",
       "      <th>max</th>\n",
       "      <td>1.000000</td>\n",
       "      <td>1.000000</td>\n",
       "      <td>1.000000</td>\n",
       "    </tr>\n",
       "  </tbody>\n",
       "</table>\n",
       "</div>"
      ],
      "text/plain": [
       "               Age           pH  Specific Gravity\n",
       "count  1435.000000  1435.000000       1435.000000\n",
       "mean      0.295727     0.350987          0.433868\n",
       "std       0.255103     0.199561          0.291481\n",
       "min       0.000000     0.000000          0.000000\n",
       "25%       0.065116     0.333333          0.200000\n",
       "50%       0.249918     0.333333          0.400000\n",
       "75%       0.489075     0.500000          0.600000\n",
       "max       1.000000     1.000000          1.000000"
      ]
     },
     "execution_count": 8,
     "metadata": {},
     "output_type": "execute_result"
    }
   ],
   "source": [
    "from sklearn.preprocessing import MinMaxScaler\n",
    "scaler = MinMaxScaler()\n",
    "df['Age'] = scaler.fit_transform(df[['Age']])\n",
    "df['pH'] = scaler.fit_transform(df[['pH']])\n",
    "df['Specific Gravity'] = scaler.fit_transform(df[['Specific Gravity']])\n",
    "df.describe()"
   ]
  },
  {
   "cell_type": "markdown",
   "id": "e45711ba-800e-4363-b17d-a2b5ca329c17",
   "metadata": {},
   "source": [
    "Per trattare le variabili categoriali utilizzeremo il metodo di codifica chiamato One Hot Encoding. Questa strategia consiste nel creare una colonna binaria (che può contenere solo i valori 0 o 1) per ogni valore univoco esistente nella variabile categoriale che stiamo codificando, e contrassegnare con un 1 la colonna corrispondente al valore presente in ciascuna record, lasciando le altre colonne con un valore pari a 0.\n",
    "Ma prima di convertire le variabili categoriali in dummy, verranno apportate modifiche pertinenti con l'obiettivo di ridurre al massimo le categorie possibili per ciascuna variabile. Uno svantaggio di questo metodo è che stiamo aumentando la dimensionalità del set di dati (ovvero, aumentando il numero di colonne o caratteristiche categoriche da cui addestrare il modello), il che può essere problematico se il numero di campioni disponibili non è sufficientemente elevato per addestrare la rete.\n",
    "Per la variabile Color, abbiamo unito le categorie ['REDDISH', 'REDDISH YELLOW', 'LIGHT RED', 'BROWN'] nella categoria RED che in questo caso abbiamo una frequenza bassa per ogni categoria."
   ]
  },
  {
   "cell_type": "code",
   "execution_count": 9,
   "id": "480e098c-ce1d-4a8d-b038-df572c04b4a2",
   "metadata": {},
   "outputs": [
    {
     "data": {
      "text/plain": [
       "Color\n",
       "YELLOW          710\n",
       "LIGHT YELLOW    341\n",
       "DARK YELLOW     248\n",
       "STRAW           116\n",
       "AMBER            15\n",
       "RED               5\n",
       "Name: count, dtype: int64"
      ]
     },
     "execution_count": 9,
     "metadata": {},
     "output_type": "execute_result"
    }
   ],
   "source": [
    "df['Color'] = df['Color'].replace(('REDDISH', 'REDDISH YELLOW', 'LIGHT RED', 'BROWN'), 'RED')\n",
    "df.Color.value_counts()"
   ]
  },
  {
   "cell_type": "code",
   "execution_count": 10,
   "id": "e89d75f8-30ca-4668-8b9a-4eb6ae6f6883",
   "metadata": {},
   "outputs": [
    {
     "data": {
      "text/plain": [
       "Transparency\n",
       "CLEAR            1123\n",
       "SLIGHTLY HAZY     172\n",
       "HAZY              104\n",
       "TURBID             20\n",
       "CLOUDY             16\n",
       "Name: count, dtype: int64"
      ]
     },
     "execution_count": 10,
     "metadata": {},
     "output_type": "execute_result"
    }
   ],
   "source": [
    "df.Transparency.value_counts()"
   ]
  },
  {
   "cell_type": "code",
   "execution_count": 11,
   "id": "c7829428-773d-4617-89b5-50adfac45a92",
   "metadata": {},
   "outputs": [
    {
     "data": {
      "text/plain": [
       "Glucose\n",
       "NEGATIVE    1348\n",
       "2+            24\n",
       "3+            23\n",
       "1+            15\n",
       "TRACE         13\n",
       "4+            12\n",
       "Name: count, dtype: int64"
      ]
     },
     "execution_count": 11,
     "metadata": {},
     "output_type": "execute_result"
    }
   ],
   "source": [
    "df.Glucose.value_counts()"
   ]
  },
  {
   "cell_type": "code",
   "execution_count": 12,
   "id": "631e85db-c875-4190-9f89-c41278056727",
   "metadata": {},
   "outputs": [
    {
     "data": {
      "text/plain": [
       "Protein\n",
       "NEGATIVE    804\n",
       "TRACE       491\n",
       "1+           94\n",
       "2+           41\n",
       "3+            5\n",
       "Name: count, dtype: int64"
      ]
     },
     "execution_count": 12,
     "metadata": {},
     "output_type": "execute_result"
    }
   ],
   "source": [
    "df.Protein.value_counts()"
   ]
  },
  {
   "cell_type": "code",
   "execution_count": 13,
   "id": "b7a9eae9-b6b5-489a-9246-ae4141ef0774",
   "metadata": {},
   "outputs": [
    {
     "data": {
      "text/plain": [
       "pH\n",
       "0.333333    758\n",
       "0.500000    305\n",
       "0.000000    237\n",
       "0.666667     96\n",
       "0.833333     27\n",
       "1.000000     12\n",
       "Name: count, dtype: int64"
      ]
     },
     "execution_count": 13,
     "metadata": {},
     "output_type": "execute_result"
    }
   ],
   "source": [
    "df['pH'].value_counts()"
   ]
  },
  {
   "cell_type": "markdown",
   "id": "9c712648-6309-4ef1-803f-fcef58d8e739",
   "metadata": {},
   "source": [
    "Le variabili WBC e RBC si riferiscono rispettivamente alla conta dei globuli bianchi e rossi del paziente. Queste variabili come set singolo hanno 91 tipi di categorie che si riflettono in intervalli. [0-2, 1-3...]. La procedura adottata dall'autore originario del lavoro prevede la riduzione di 91 categorie a 13 divisioni che contengono parzialmente insiemi delle categorie originarie. Per ridurre, la nostra proposta è di ridurre a 9 categorie\n",
    "I valori di queste colonne che sono indicati da un segno maggiore (\">\") come \">50\" e \">100\", indicando che il numero di leucociti o eritrociti supera 50 o 100 e, infine, alcuni punti di dati rappresentati come stringhe, inclusi \"LOADED\" e \"TNTC\" saranno rappresentato >250 che significa che sono non numerabile."
   ]
  },
  {
   "cell_type": "code",
   "execution_count": 14,
   "id": "4b090e38-0bde-400a-8a30-c23666d9ab12",
   "metadata": {},
   "outputs": [
    {
     "data": {
      "text/plain": [
       "WBC\n",
       "0-2      448\n",
       "1-2      150\n",
       "0-1      136\n",
       "2-4      114\n",
       "1-3      106\n",
       "        ... \n",
       "10-16      1\n",
       "48-55      1\n",
       "7-8        1\n",
       "15-22      1\n",
       "8-11       1\n",
       "Name: count, Length: 75, dtype: int64"
      ]
     },
     "execution_count": 14,
     "metadata": {},
     "output_type": "execute_result"
    }
   ],
   "source": [
    "df.WBC.value_counts()"
   ]
  },
  {
   "cell_type": "code",
   "execution_count": 15,
   "id": "bb7e46db-5c49-4482-9155-2688c50454fb",
   "metadata": {},
   "outputs": [
    {
     "data": {
      "text/plain": [
       "RBC\n",
       "0-2       617\n",
       "0-1       312\n",
       "1-2       123\n",
       "1-3        87\n",
       "2-4        72\n",
       "0-3        49\n",
       "3-5        27\n",
       "4-6        24\n",
       ">50        13\n",
       "5-7        10\n",
       ">100       10\n",
       "8-10       10\n",
       "18-20       6\n",
       "13-15       5\n",
       "2-3         5\n",
       "10-12       5\n",
       "1-5         4\n",
       "6-8         4\n",
       "LOADED      4\n",
       "1-4         3\n",
       "0-4         3\n",
       "9-11        3\n",
       "5-10        2\n",
       "5-8         2\n",
       "23-25       2\n",
       "30-35       2\n",
       "1-6         2\n",
       "16-18       2\n",
       "2-5         2\n",
       "3-6         2\n",
       "28-30       1\n",
       "12-15       1\n",
       "4-10        1\n",
       "48-62       1\n",
       "25-32       1\n",
       "25-30       1\n",
       "20-25       1\n",
       "2-6         1\n",
       "8-12        1\n",
       "12-17       1\n",
       "11-13       1\n",
       "TNTC        1\n",
       "22-24       1\n",
       "0-0         1\n",
       "85-87       1\n",
       "36-38       1\n",
       "20-22       1\n",
       "18-21       1\n",
       "18-25       1\n",
       "18-22       1\n",
       "9-12        1\n",
       "6-14        1\n",
       "38-40       1\n",
       "Name: count, dtype: int64"
      ]
     },
     "execution_count": 15,
     "metadata": {},
     "output_type": "execute_result"
    }
   ],
   "source": [
    "df.RBC.value_counts()"
   ]
  },
  {
   "cell_type": "code",
   "execution_count": 16,
   "id": "fbb36ad9-2731-408d-99e2-5ffbb9596512",
   "metadata": {},
   "outputs": [],
   "source": [
    "from typing import Union\n",
    "def custom_sort(value: str) -> Union[int, float]:\n",
    "    APPROXIMATE_COUNT = 250\n",
    "    if \">\" in value:\n",
    "        return int(value.replace(\">\", \"\"))\n",
    "    elif value.isalpha():\n",
    "        return APPROXIMATE_COUNT\n",
    "    else:\n",
    "        start, end = map(int, value.split('-'))\n",
    "        return start + (end - start) / 2\n",
    "\n",
    "\n",
    "\n",
    "sorted_values = [custom_sort(val) for val in df['WBC']]\n",
    "sorted_values1 = [custom_sort(val1) for val1 in df['RBC']]\n",
    "\n",
    "# Convertir la lista en una Serie de Pandas\n",
    "sorted_series = pd.Series(sorted_values, name='Sorted_WBC')\n",
    "sorted_series1 = pd.Series(sorted_values1, name='Sorted_RBC')\n",
    "# Concatenar la nueva Serie al DataFrame\n",
    "df = pd.concat([df, sorted_series, sorted_series1], axis=1)\n",
    "df.isna().sum()\n",
    "df= df.dropna()"
   ]
  },
  {
   "cell_type": "markdown",
   "id": "fa3e16ce-246c-4aed-9f12-8b2eb8539c0d",
   "metadata": {},
   "source": [
    "Per apportare le modifiche pertinenti alle variabili WBC e RBC, viene applicata una funzione che restituisce ciascun valore medio di ciascun intervallo (91 categorie). Da questo valore creeremo le 9 nuove categorie che rappresenteranno i seguenti intervalli [0_5, 6_10, 11_15, 16_20, 21_30, 31_40, 41_50, >50, >100, >250]"
   ]
  },
  {
   "cell_type": "code",
   "execution_count": 17,
   "id": "f32041fc-51c6-4467-9507-a36982dec2bb",
   "metadata": {},
   "outputs": [],
   "source": [
    "# Definir los intervalos de los bins\n",
    "bins = [0, 5, 10, 15, 20, 30, 50, 100, 249, 300]\n",
    "\n",
    "# Etiquetas para los bins\n",
    "labels = ['0_5', '6_10', '11_15', '16_20', '21_30', '31_50', '>50', '>100', '>250']\n",
    "\n",
    "# Aplicar la función cut para dividir la variable en bins\n",
    "df['WBC_S'] = pd.cut(df['Sorted_WBC'], bins=bins, labels=labels, right=False)\n",
    "df['RBC_S'] = pd.cut(df['Sorted_RBC'], bins=bins, labels=labels, right=False)"
   ]
  },
  {
   "cell_type": "code",
   "execution_count": 18,
   "id": "4f4454ee-8b8d-4819-b4eb-a2dec0eb874e",
   "metadata": {},
   "outputs": [
    {
     "data": {
      "text/plain": [
       "WBC_S\n",
       "0_5      1110\n",
       "6_10      153\n",
       "11_15      54\n",
       "16_20      35\n",
       ">250       26\n",
       ">50        23\n",
       "21_30      21\n",
       "31_50       8\n",
       ">100        4\n",
       "Name: count, dtype: int64"
      ]
     },
     "execution_count": 18,
     "metadata": {},
     "output_type": "execute_result"
    }
   ],
   "source": [
    "df['WBC_S'].value_counts()"
   ]
  },
  {
   "cell_type": "code",
   "execution_count": 19,
   "id": "5dd607d0-8563-452d-928a-f6972a26a2e8",
   "metadata": {},
   "outputs": [
    {
     "data": {
      "text/plain": [
       "Epithelial Cells\n",
       "RARE          740\n",
       "FEW           347\n",
       "MODERATE      188\n",
       "PLENTY        121\n",
       "OCCASIONAL     19\n",
       "NONE SEEN      16\n",
       "LOADED          3\n",
       "Name: count, dtype: int64"
      ]
     },
     "execution_count": 19,
     "metadata": {},
     "output_type": "execute_result"
    }
   ],
   "source": [
    "df['Epithelial Cells'].value_counts()"
   ]
  },
  {
   "cell_type": "code",
   "execution_count": 20,
   "id": "cdd912a5-adca-449e-b1e1-1b9a337f461f",
   "metadata": {},
   "outputs": [
    {
     "data": {
      "text/plain": [
       "Mucous Threads\n",
       "NONE SEEN     500\n",
       "FEW           381\n",
       "RARE          275\n",
       "MODERATE      221\n",
       "PLENTY         36\n",
       "OCCASIONAL     21\n",
       "Name: count, dtype: int64"
      ]
     },
     "execution_count": 20,
     "metadata": {},
     "output_type": "execute_result"
    }
   ],
   "source": [
    "df['Mucous Threads'].value_counts()"
   ]
  },
  {
   "cell_type": "code",
   "execution_count": 21,
   "id": "a1b9f0e8-28ba-4c6d-b183-83ddf5426161",
   "metadata": {},
   "outputs": [
    {
     "data": {
      "text/plain": [
       "Amorphous Urates\n",
       "NONE SEEN     1282\n",
       "FEW             72\n",
       "RARE            42\n",
       "MODERATE        19\n",
       "PLENTY          11\n",
       "OCCASIONAL       8\n",
       "Name: count, dtype: int64"
      ]
     },
     "execution_count": 21,
     "metadata": {},
     "output_type": "execute_result"
    }
   ],
   "source": [
    "df['Amorphous Urates'].value_counts()"
   ]
  },
  {
   "cell_type": "code",
   "execution_count": 22,
   "id": "49eb151a-7ce4-48c1-a74a-d82e48aca1e4",
   "metadata": {},
   "outputs": [
    {
     "data": {
      "text/plain": [
       "Bacteria\n",
       "RARE          753\n",
       "FEW           434\n",
       "MODERATE      158\n",
       "PLENTY         77\n",
       "OCCASIONAL      8\n",
       "LOADED          4\n",
       "Name: count, dtype: int64"
      ]
     },
     "execution_count": 22,
     "metadata": {},
     "output_type": "execute_result"
    }
   ],
   "source": [
    "df.Bacteria.value_counts()"
   ]
  },
  {
   "cell_type": "code",
   "execution_count": 23,
   "id": "efc46139-9c16-46ec-ab59-8f911fd7d47a",
   "metadata": {},
   "outputs": [
    {
     "data": {
      "text/plain": [
       "Diagnosis\n",
       "NEGATIVE    1353\n",
       "POSITIVE      81\n",
       "Name: count, dtype: int64"
      ]
     },
     "execution_count": 23,
     "metadata": {},
     "output_type": "execute_result"
    }
   ],
   "source": [
    "df.Diagnosis.value_counts()"
   ]
  },
  {
   "cell_type": "code",
   "execution_count": 24,
   "id": "6dab8e97-e4c1-4621-9a53-1c0a61a5dc45",
   "metadata": {},
   "outputs": [
    {
     "data": {
      "image/png": "[encoded data removed]",
      "text/plain": [
       "<Figure size 1300x1000 with 15 Axes>"
      ]
     },
     "metadata": {},
     "output_type": "display_data"
    }
   ],
   "source": [
    "import matplotlib.pyplot as plt\n",
    "\n",
    "plt.figure(figsize=(13, 10))\n",
    "\n",
    "\n",
    "# 1 Plot\n",
    "plt.subplot(5, 3, 1)\n",
    "plt.hist(df['Age'])\n",
    "plt.title('Age')\n",
    "plt.xticks(rotation=45, ha='right', fontsize=7)\n",
    "\n",
    "# 2 Plot\n",
    "plt.subplot(5, 3, 2)\n",
    "plt.bar(df['Gender'].unique(), df['Gender'].value_counts())\n",
    "plt.title('Gender')\n",
    "plt.xticks(rotation=45, ha='right', fontsize=7)\n",
    "\n",
    "# 3 Plot\n",
    "plt.subplot(5, 3, 3)\n",
    "plt.bar(df['Color'].unique(), df.Color.value_counts())\n",
    "plt.title('Color')\n",
    "plt.xticks(rotation=45, ha='right', fontsize=7)\n",
    "\n",
    "# 4 Plot\n",
    "plt.subplot(5, 3, 4)\n",
    "plt.bar(df['Transparency'].unique(), df.Transparency.value_counts())\n",
    "plt.title('Transparency')\n",
    "plt.xticks(rotation=45, ha='right', fontsize=7)\n",
    "\n",
    "# 5 Plot\n",
    "plt.subplot(5, 3, 5)\n",
    "plt.bar(df['Glucose'].unique(), df.Glucose.value_counts())\n",
    "plt.title('Glucose')\n",
    "plt.xticks(rotation=45, ha='right', fontsize=7)\n",
    "\n",
    "# 6 Plot\n",
    "plt.subplot(5, 3, 6)\n",
    "plt.bar(df['Protein'].unique(), df.Protein.value_counts())\n",
    "plt.title('Protein')\n",
    "plt.xticks(rotation=45, ha='right', fontsize=7)\n",
    "\n",
    "# 7 Plot\n",
    "plt.subplot(5, 3, 7)\n",
    "plt.hist(df['pH'])\n",
    "plt.title('pH')\n",
    "plt.xticks(rotation=45, ha='right', fontsize=7)\n",
    "\n",
    "# 8 Plot\n",
    "plt.subplot(5, 3, 8)\n",
    "plt.hist(df['Specific Gravity'])\n",
    "plt.title('Specific Gravity')\n",
    "plt.xticks(rotation=45, ha='right', fontsize=7)\n",
    "\n",
    "\n",
    "# 9 Plot\n",
    "plt.subplot(5, 3, 9)\n",
    "plt.bar(df['WBC_S'].unique(), df['WBC_S'].value_counts())\n",
    "plt.title('WBC_S')\n",
    "plt.xticks(rotation=45, ha='right', fontsize=7)\n",
    "\n",
    "# 10 Plot\n",
    "plt.subplot(5, 3, 10)\n",
    "plt.bar(df['RBC_S'].unique(), df['RBC_S'].value_counts())\n",
    "plt.title('RBC_S')\n",
    "plt.xticks(rotation=45, ha='right', fontsize=7)\n",
    "\n",
    "# 11 Plot\n",
    "plt.subplot(5, 3, 11)\n",
    "plt.bar(df['Epithelial Cells'].unique(), df['Epithelial Cells'].value_counts())\n",
    "plt.title('Epithelial Cells')\n",
    "plt.xticks(rotation=45, ha='right', fontsize=7)\n",
    "\n",
    "# 12 Plot\n",
    "plt.subplot(5, 3, 12)\n",
    "plt.bar(df['Mucous Threads'].unique(), df['Mucous Threads'].value_counts())\n",
    "plt.title('Mucous Threads')\n",
    "plt.xticks(rotation=45, ha='right', fontsize=7)\n",
    "\n",
    "# 13 Plot\n",
    "plt.subplot(5, 3, 13)\n",
    "plt.bar(df['Amorphous Urates'].unique(), df['Amorphous Urates'].value_counts())\n",
    "plt.title('Amorphous Urates')\n",
    "plt.xticks(rotation=45, ha='right', fontsize=7)\n",
    "\n",
    "# 14 Plot\n",
    "plt.subplot(5, 3, 14)\n",
    "plt.bar(df['Bacteria'].unique(), df['Bacteria'].value_counts())\n",
    "plt.title('Bacteria')\n",
    "plt.xticks(rotation=45, ha='right', fontsize=7)\n",
    "\n",
    "\n",
    "# 15 Plot\n",
    "plt.subplot(5, 3, 15)\n",
    "plt.bar(df['Diagnosis'].unique(), df['Diagnosis'].value_counts())\n",
    "plt.title('Diagnosis')\n",
    "plt.xticks(rotation=45, ha='right', fontsize=7)\n",
    "\n",
    "\n",
    "plt.subplots_adjust(hspace=.7)\n",
    "plt.subplots_adjust(wspace=.10)\n",
    "\n",
    "plt.show()"
   ]
  },
  {
   "cell_type": "markdown",
   "id": "27a7ef34-1386-4e06-a9e1-8c696bee66b0",
   "metadata": {},
   "source": [
    "Definiamo una piccola funzione che restituisce la conversione delle variabili categoriali in variabili binarie, questo con l'obiettivo di ottenere le variabili trasformate che serviranno come input alla rete neurale."
   ]
  },
  {
   "cell_type": "code",
   "execution_count": 25,
   "id": "2406acfa-45d3-49d3-8911-fdd6c90d99a4",
   "metadata": {},
   "outputs": [],
   "source": [
    "def crear_variables_dummy_codificadas(dataframe, columnas_categoricas):\n",
    "    df_codificado = dataframe.copy()\n",
    "    for columna in columnas_categoricas:\n",
    "        categorias = dataframe[columna].unique()\n",
    "        for categoria in categorias:\n",
    "            nombre_columna_dummy = f\"{columna}_{categoria}\"\n",
    "            df_codificado[nombre_columna_dummy] = (dataframe[columna] == categoria).astype(int)\n",
    "        df_codificado.drop(columna, axis=1, inplace=True)\n",
    "    return df_codificado\n",
    "\n",
    "columnas_categoricas=['Gender', 'Color','Transparency', 'Glucose', 'Protein', 'WBC_S', 'RBC_S', 'Epithelial Cells', 'Mucous Threads', 'Amorphous Urates', 'Bacteria']\n",
    "df_dummy = crear_variables_dummy_codificadas(df, columnas_categoricas)\n",
    "#print(df_dummy)"
   ]
  },
  {
   "cell_type": "code",
   "execution_count": 26,
   "id": "3a4c785f-c9ff-4e20-98b3-9fcc0ce969ce",
   "metadata": {},
   "outputs": [],
   "source": [
    "df_dummy['Diagnosi'] = df_dummy['Diagnosis'].map({'NEGATIVE': 0, 'POSITIVE': 1})"
   ]
  },
  {
   "cell_type": "code",
   "execution_count": 27,
   "id": "7246e5f7-09a2-4142-b366-cb9c8ed13598",
   "metadata": {},
   "outputs": [
    {
     "name": "stdout",
     "output_type": "stream",
     "text": [
      "<class 'pandas.core.frame.DataFrame'>\n",
      "Index: 1434 entries, 0 to 1434\n",
      "Data columns (total 76 columns):\n",
      " #   Column                       Non-Null Count  Dtype  \n",
      "---  ------                       --------------  -----  \n",
      " 0   Age                          1434 non-null   float64\n",
      " 1   pH                           1434 non-null   float64\n",
      " 2   Specific Gravity             1434 non-null   float64\n",
      " 3   WBC                          1434 non-null   object \n",
      " 4   RBC                          1434 non-null   object \n",
      " 5   Diagnosis                    1434 non-null   object \n",
      " 6   Sorted_WBC                   1434 non-null   float64\n",
      " 7   Sorted_RBC                   1434 non-null   float64\n",
      " 8   Gender_FEMALE                1434 non-null   int32  \n",
      " 9   Gender_MALE                  1434 non-null   int32  \n",
      " 10  Color_LIGHT YELLOW           1434 non-null   int32  \n",
      " 11  Color_DARK YELLOW            1434 non-null   int32  \n",
      " 12  Color_RED                    1434 non-null   int32  \n",
      " 13  Color_YELLOW                 1434 non-null   int32  \n",
      " 14  Color_AMBER                  1434 non-null   int32  \n",
      " 15  Color_STRAW                  1434 non-null   int32  \n",
      " 16  Transparency_CLEAR           1434 non-null   int32  \n",
      " 17  Transparency_SLIGHTLY HAZY   1434 non-null   int32  \n",
      " 18  Transparency_CLOUDY          1434 non-null   int32  \n",
      " 19  Transparency_HAZY            1434 non-null   int32  \n",
      " 20  Transparency_TURBID          1434 non-null   int32  \n",
      " 21  Glucose_NEGATIVE             1434 non-null   int32  \n",
      " 22  Glucose_3+                   1434 non-null   int32  \n",
      " 23  Glucose_1+                   1434 non-null   int32  \n",
      " 24  Glucose_TRACE                1434 non-null   int32  \n",
      " 25  Glucose_4+                   1434 non-null   int32  \n",
      " 26  Glucose_2+                   1434 non-null   int32  \n",
      " 27  Protein_NEGATIVE             1434 non-null   int32  \n",
      " 28  Protein_1+                   1434 non-null   int32  \n",
      " 29  Protein_TRACE                1434 non-null   int32  \n",
      " 30  Protein_2+                   1434 non-null   int32  \n",
      " 31  Protein_3+                   1434 non-null   int32  \n",
      " 32  WBC_S_0_5                    1434 non-null   int32  \n",
      " 33  WBC_S_6_10                   1434 non-null   int32  \n",
      " 34  WBC_S_>50                    1434 non-null   int32  \n",
      " 35  WBC_S_11_15                  1434 non-null   int32  \n",
      " 36  WBC_S_21_30                  1434 non-null   int32  \n",
      " 37  WBC_S_>250                   1434 non-null   int32  \n",
      " 38  WBC_S_16_20                  1434 non-null   int32  \n",
      " 39  WBC_S_31_50                  1434 non-null   int32  \n",
      " 40  WBC_S_>100                   1434 non-null   int32  \n",
      " 41  RBC_S_0_5                    1434 non-null   int32  \n",
      " 42  RBC_S_>250                   1434 non-null   int32  \n",
      " 43  RBC_S_11_15                  1434 non-null   int32  \n",
      " 44  RBC_S_21_30                  1434 non-null   int32  \n",
      " 45  RBC_S_6_10                   1434 non-null   int32  \n",
      " 46  RBC_S_>100                   1434 non-null   int32  \n",
      " 47  RBC_S_16_20                  1434 non-null   int32  \n",
      " 48  RBC_S_31_50                  1434 non-null   int32  \n",
      " 49  RBC_S_>50                    1434 non-null   int32  \n",
      " 50  Epithelial Cells_OCCASIONAL  1434 non-null   int32  \n",
      " 51  Epithelial Cells_RARE        1434 non-null   int32  \n",
      " 52  Epithelial Cells_PLENTY      1434 non-null   int32  \n",
      " 53  Epithelial Cells_MODERATE    1434 non-null   int32  \n",
      " 54  Epithelial Cells_FEW         1434 non-null   int32  \n",
      " 55  Epithelial Cells_NONE SEEN   1434 non-null   int32  \n",
      " 56  Epithelial Cells_LOADED      1434 non-null   int32  \n",
      " 57  Mucous Threads_RARE          1434 non-null   int32  \n",
      " 58  Mucous Threads_FEW           1434 non-null   int32  \n",
      " 59  Mucous Threads_NONE SEEN     1434 non-null   int32  \n",
      " 60  Mucous Threads_MODERATE      1434 non-null   int32  \n",
      " 61  Mucous Threads_PLENTY        1434 non-null   int32  \n",
      " 62  Mucous Threads_OCCASIONAL    1434 non-null   int32  \n",
      " 63  Amorphous Urates_NONE SEEN   1434 non-null   int32  \n",
      " 64  Amorphous Urates_FEW         1434 non-null   int32  \n",
      " 65  Amorphous Urates_MODERATE    1434 non-null   int32  \n",
      " 66  Amorphous Urates_PLENTY      1434 non-null   int32  \n",
      " 67  Amorphous Urates_RARE        1434 non-null   int32  \n",
      " 68  Amorphous Urates_OCCASIONAL  1434 non-null   int32  \n",
      " 69  Bacteria_OCCASIONAL          1434 non-null   int32  \n",
      " 70  Bacteria_MODERATE            1434 non-null   int32  \n",
      " 71  Bacteria_RARE                1434 non-null   int32  \n",
      " 72  Bacteria_FEW                 1434 non-null   int32  \n",
      " 73  Bacteria_PLENTY              1434 non-null   int32  \n",
      " 74  Bacteria_LOADED              1434 non-null   int32  \n",
      " 75  Diagnosi                     1434 non-null   int64  \n",
      "dtypes: float64(5), int32(67), int64(1), object(3)\n",
      "memory usage: 487.3+ KB\n"
     ]
    }
   ],
   "source": [
    "df_dummy.info()"
   ]
  },
  {
   "cell_type": "markdown",
   "id": "b0cf12ce-2eb8-4736-bb1a-284c4cf6ab18",
   "metadata": {},
   "source": [
    "Eliminamos las columnas que...."
   ]
  },
  {
   "cell_type": "code",
   "execution_count": 28,
   "id": "fd8d9bf6-3000-4552-8895-69eaf3d532a8",
   "metadata": {},
   "outputs": [
    {
     "name": "stdout",
     "output_type": "stream",
     "text": [
      "<class 'pandas.core.frame.DataFrame'>\n",
      "Index: 1434 entries, 0 to 1434\n",
      "Data columns (total 71 columns):\n",
      " #   Column                       Non-Null Count  Dtype  \n",
      "---  ------                       --------------  -----  \n",
      " 0   Age                          1434 non-null   float64\n",
      " 1   pH                           1434 non-null   float64\n",
      " 2   Specific Gravity             1434 non-null   float64\n",
      " 3   Gender_FEMALE                1434 non-null   int32  \n",
      " 4   Gender_MALE                  1434 non-null   int32  \n",
      " 5   Color_LIGHT YELLOW           1434 non-null   int32  \n",
      " 6   Color_DARK YELLOW            1434 non-null   int32  \n",
      " 7   Color_RED                    1434 non-null   int32  \n",
      " 8   Color_YELLOW                 1434 non-null   int32  \n",
      " 9   Color_AMBER                  1434 non-null   int32  \n",
      " 10  Color_STRAW                  1434 non-null   int32  \n",
      " 11  Transparency_CLEAR           1434 non-null   int32  \n",
      " 12  Transparency_SLIGHTLY HAZY   1434 non-null   int32  \n",
      " 13  Transparency_CLOUDY          1434 non-null   int32  \n",
      " 14  Transparency_HAZY            1434 non-null   int32  \n",
      " 15  Transparency_TURBID          1434 non-null   int32  \n",
      " 16  Glucose_NEGATIVE             1434 non-null   int32  \n",
      " 17  Glucose_3+                   1434 non-null   int32  \n",
      " 18  Glucose_1+                   1434 non-null   int32  \n",
      " 19  Glucose_TRACE                1434 non-null   int32  \n",
      " 20  Glucose_4+                   1434 non-null   int32  \n",
      " 21  Glucose_2+                   1434 non-null   int32  \n",
      " 22  Protein_NEGATIVE             1434 non-null   int32  \n",
      " 23  Protein_1+                   1434 non-null   int32  \n",
      " 24  Protein_TRACE                1434 non-null   int32  \n",
      " 25  Protein_2+                   1434 non-null   int32  \n",
      " 26  Protein_3+                   1434 non-null   int32  \n",
      " 27  WBC_S_0_5                    1434 non-null   int32  \n",
      " 28  WBC_S_6_10                   1434 non-null   int32  \n",
      " 29  WBC_S_>50                    1434 non-null   int32  \n",
      " 30  WBC_S_11_15                  1434 non-null   int32  \n",
      " 31  WBC_S_21_30                  1434 non-null   int32  \n",
      " 32  WBC_S_>250                   1434 non-null   int32  \n",
      " 33  WBC_S_16_20                  1434 non-null   int32  \n",
      " 34  WBC_S_31_50                  1434 non-null   int32  \n",
      " 35  WBC_S_>100                   1434 non-null   int32  \n",
      " 36  RBC_S_0_5                    1434 non-null   int32  \n",
      " 37  RBC_S_>250                   1434 non-null   int32  \n",
      " 38  RBC_S_11_15                  1434 non-null   int32  \n",
      " 39  RBC_S_21_30                  1434 non-null   int32  \n",
      " 40  RBC_S_6_10                   1434 non-null   int32  \n",
      " 41  RBC_S_>100                   1434 non-null   int32  \n",
      " 42  RBC_S_16_20                  1434 non-null   int32  \n",
      " 43  RBC_S_31_50                  1434 non-null   int32  \n",
      " 44  RBC_S_>50                    1434 non-null   int32  \n",
      " 45  Epithelial Cells_OCCASIONAL  1434 non-null   int32  \n",
      " 46  Epithelial Cells_RARE        1434 non-null   int32  \n",
      " 47  Epithelial Cells_PLENTY      1434 non-null   int32  \n",
      " 48  Epithelial Cells_MODERATE    1434 non-null   int32  \n",
      " 49  Epithelial Cells_FEW         1434 non-null   int32  \n",
      " 50  Epithelial Cells_NONE SEEN   1434 non-null   int32  \n",
      " 51  Epithelial Cells_LOADED      1434 non-null   int32  \n",
      " 52  Mucous Threads_RARE          1434 non-null   int32  \n",
      " 53  Mucous Threads_FEW           1434 non-null   int32  \n",
      " 54  Mucous Threads_NONE SEEN     1434 non-null   int32  \n",
      " 55  Mucous Threads_MODERATE      1434 non-null   int32  \n",
      " 56  Mucous Threads_PLENTY        1434 non-null   int32  \n",
      " 57  Mucous Threads_OCCASIONAL    1434 non-null   int32  \n",
      " 58  Amorphous Urates_NONE SEEN   1434 non-null   int32  \n",
      " 59  Amorphous Urates_FEW         1434 non-null   int32  \n",
      " 60  Amorphous Urates_MODERATE    1434 non-null   int32  \n",
      " 61  Amorphous Urates_PLENTY      1434 non-null   int32  \n",
      " 62  Amorphous Urates_RARE        1434 non-null   int32  \n",
      " 63  Amorphous Urates_OCCASIONAL  1434 non-null   int32  \n",
      " 64  Bacteria_OCCASIONAL          1434 non-null   int32  \n",
      " 65  Bacteria_MODERATE            1434 non-null   int32  \n",
      " 66  Bacteria_RARE                1434 non-null   int32  \n",
      " 67  Bacteria_FEW                 1434 non-null   int32  \n",
      " 68  Bacteria_PLENTY              1434 non-null   int32  \n",
      " 69  Bacteria_LOADED              1434 non-null   int32  \n",
      " 70  Diagnosi                     1434 non-null   int64  \n",
      "dtypes: float64(3), int32(67), int64(1)\n",
      "memory usage: 431.3 KB\n"
     ]
    }
   ],
   "source": [
    "df_dummy = df_dummy.drop(['WBC', 'RBC', 'Sorted_WBC', 'Sorted_RBC', 'Diagnosis'], axis=1)\n",
    "df_dummy.info()"
   ]
  },
  {
   "cell_type": "markdown",
   "id": "ec6361c0-830f-4859-8aff-420f8d69c4e0",
   "metadata": {},
   "source": [
    "## COSTRUZIONE DELLA RETE NEURALE\n",
    "Prima di costruire e addestrare una rete neurale, è fondamentale preparare adeguatamente i dati di input e di output. Eliminare i dati errati, duplicati o mancanti. Modificare i dati in modo che abbiano una scala simile per facilitare il processo di ottimizzazione. Convertire le variabili categoriali in un formato numerico adatto al modello. Avevamo precedentemente commentato questa fase con le modifiche apportate. Dopo, i dati vengono quindi generalmente suddivisi in set di training, validation e test; In questo caso dividiamo il dataset solo in train_set e test_set perche ci ritroviamo con un data set sbilanciato e poche unità che rappresentano la classe positiva.\n",
    "Viene definita l'architettura della rete neurale, compreso il numero di strati, il numero di neuroni in ogni strato, le funzioni di attivazione, in questo caso utilizziamo il RELU per gli strati intermedi e per l'output utilizziamo il Sigmoide. Questo viene fatto utilizzando le librerie TensorFlow e Keras. La funzione di attivazione ReLu applica una trasformazione non lineare molto semplice, attivando il neurone solo se l'input è superiore a zero. Mentre il valore di ingresso è inferiore a zero, il valore di uscita è zero, ma quando è superiore a zero, il valore di uscita aumenta linearmente con il valore di ingresso. La funzione sigmoide trasforma i valori nell'intervallo (-inf, +inf) in valori nell'intervallo (0, 1). Questa è ancora la funzione spesso utilizzata nei neuroni nello strato di output dei modelli di classificazione binaria, poiché il suo output può essere interpretato come probabilità.\n",
    "\n",
    "Il processo di addestramento di una rete neurale consiste nell'aggiustare il valore dei pesi e dei bias in modo tale che le previsioni generate abbiano il minor errore possibile. Grazie a ciò, il modello è in grado di identificare quali predittori hanno la maggiore influenza e come sono correlati tra loro e con la variabile di risposta. Avvia la rete con valori casuali dei pesi e del bias. Per ogni osservazione di addestramento (X, y), calcola l'errore commesso dalla rete quando effettua le sue previsioni. Media degli errori di tutte le osservazioni. Identificare la responsabilità che ciascun peso e bias ha avuto nell'errore di previsione. Modificare leggermente i pesi e il bias della rete (proporzionali alla sua responsabilità per l'errore) nella giusta direzione in modo da ridurre l'errore. Ripeti i passaggi precedenti finché la rete non è abbastanza buona. Tutto questo attraverso della combinazione di più metodi matematici, in particolare l’algoritmo di backpropagation e l’ottimizzazione della discesa del gradiente.\n",
    "\n",
    "Il codice seguente importa diverse classi e funzioni dalle librerie tensorflow.keras e sklearn.model_selection. \n",
    "* Da tensorflow.keras.models import Sequential: importa la classe Sequential da tensorflow.keras.models. Sequenziale è un modello di rete neurale sequenziale, il che significa che i livelli vengono aggiunti in sequenza uno dopo l'altro.\n",
    "* Da tensorflow.keras.layers import Dense, Input, Concatenate, Embedding: importa diversi livelli che possono essere utilizzati per creare modelli di rete neurale con tensorflow.keras. I layer Denso costruisce uno strato di rete neurale completamente connesso e i layer Input costruisce un livello di input utilizzato per specificare la dimensione dei dati di input.\n",
    "* Da sklearn.model_selection import train_test_split: importa la funzione train_test_split da sklearn.model_selection. train_test_split viene utilizzato per suddividere i dati in set di training e test, utile per valutare le prestazioni del modello.\n",
    "In sintesi, questo codice prepara l'ambiente per la creazione e l'addestramento di modelli di rete neurale utilizzando TensorFlow e Keras e anche per la suddivisione dei set di dati in set di training e test utilizzando scikit-learn."
   ]
  },
  {
   "cell_type": "code",
   "execution_count": 29,
   "id": "af6f0529-5c6e-498f-8dbc-e216e8756ade",
   "metadata": {},
   "outputs": [],
   "source": [
    "from tensorflow.keras.models import Sequential\n",
    "from tensorflow.keras.layers import Dense, Input, Dropout\n",
    "from sklearn.model_selection import train_test_split"
   ]
  },
  {
   "cell_type": "markdown",
   "id": "cca59795-f251-460e-be12-0b2dc8182472",
   "metadata": {},
   "source": [
    "Selezioniamo tutte le colonne di un DataFrame df_dummy elaborato, tranne la colonna 'Diagnosi', che è la nostra variabile target, che sarà l'input \n",
    "della rete neurale che salviamo nella variabile X. Quindi selezioniamo solo la colonna 'Diagnosi' e lo salviamo nella variabile y."
   ]
  },
  {
   "cell_type": "code",
   "execution_count": 30,
   "id": "f66fa610-b84c-4377-9344-d5f510bf18a4",
   "metadata": {},
   "outputs": [],
   "source": [
    "X = df_dummy.drop('Diagnosi', axis=1)\n",
    "y = df_dummy['Diagnosi']"
   ]
  },
  {
   "cell_type": "markdown",
   "id": "addbebbf-af13-4701-aab0-056c02b73df0",
   "metadata": {},
   "source": [
    "Utilizziamo quindi la funzione train_test_split di scikit-learn per dividere i set di dati X e y in set di training e test. \n",
    "Ecco una descrizione di ciò che fa ciascun argomento nella funzione train_test_split:\n",
    "\n",
    "* X: Insieme di caratteristiche/ variabili indipendenti.\n",
    "* y: set di etichette (valore della variabile target).\n",
    "* test_size: proporzione del set di dati da utilizzare come set di test. In questo caso è impostato su 0,3, il che significa che il 30% del \n",
    "set di dati verrà utilizzato come set di test.\n",
    "* random_state: seme per garantire la riproducibilità della suddivisione. Impostandolo ti assicuri di ottenere la stessa suddivisione ogni \n",
    "volta che esegui il codice.\n",
    "Il risultato della funzione train_test_split è costituito da quattro set di dati: X_train, X_test, y_train e y_test. Questi rappresentano \n",
    "i dati delle funzionalità e delle etichette rispettivamente per il set di training e il set di test. "
   ]
  },
  {
   "cell_type": "code",
   "execution_count": 31,
   "id": "1b5937d9-cc86-436d-bb0f-2b9c5d258747",
   "metadata": {},
   "outputs": [],
   "source": [
    "# División de datos\n",
    "X_train, X_test, y_train, y_test = train_test_split(X, y, test_size=0.3, random_state=42)"
   ]
  },
  {
   "cell_type": "code",
   "execution_count": 32,
   "metadata": {},
   "outputs": [
    {
     "data": {
      "text/plain": [
       "1003"
      ]
     },
     "execution_count": 32,
     "metadata": {},
     "output_type": "execute_result"
    }
   ],
   "source": [
    "len(X_train)"
   ]
  },
  {
   "cell_type": "markdown",
   "id": "207c5722-dcf7-4071-b81b-289aebded40b",
   "metadata": {},
   "source": [
    "Utilizziamo un modello sequenziale, in cui sono definiti i seguenti attributi:\n",
    "* Input(shape=(X_train.shape[1],)): Definisce il livello di input del modello, che in questo caso rappresenta il numero di feature nel\n",
    "variabili indipendenti ottenute 70 salvate nel set di addestramento X_train. Ciò consente alla rete neurale di accettare dati di input \n",
    "con la stessa forma dei dati di addestramento.\n",
    "Ora attiviamo due livelli nascosti interconnessi:\n",
    "* Dense(64, attivazione='relu'): aggiungiamo uno strato densamente connesso con 64 neuroni alla rete neurale. All'uscita di questo livello \n",
    "viene applicata la funzione di attivazione 'relu' (unità lineare rettificata). Lo strato denso è completamente connesso ai neuroni dello \n",
    "strato precedente.\n",
    "* Dense(32, attivazione='relu'): aggiungiamo un altro strato densamente connesso con 32 neuroni alla rete neurale. Come il livello precedente, \n",
    "utilizza la funzione di attivazione \"relu\".\n",
    "Per gli output si attiva un nodo:\n",
    "* Dense(1, attivazione='sigmoid'): aggiungiamo lo strato di output della rete neurale. Questo è uno strato denso con un singolo neurone, poiché \n",
    "il problema è di classificazione binaria (l'output è 0 o 1). La funzione di attivazione \"sigmoide\" viene qui utilizzata \n",
    "per produrre un output compreso tra 0 e 1, che viene interpretato come la probabilità che l'input appartenga alla classe positiva."
   ]
  },
  {
   "cell_type": "code",
   "execution_count": 33,
   "id": "2c53dcf2-1012-4cb5-bd06-3508f3ee4bfc",
   "metadata": {},
   "outputs": [],
   "source": [
    "# Definición del modelo\n",
    "model = Sequential([\n",
    "    Input(shape=(X_train.shape[1],)),\n",
    "    Dense(64, activation='relu'),\n",
    "    Dense(32, activation='relu'),\n",
    "    Dense(1, activation='sigmoid')\n",
    "])"
   ]
  },
  {
   "cell_type": "markdown",
   "id": "a0155b28-12c0-4610-bfb5-337d09b28c30",
   "metadata": {},
   "source": [
    "Il modello viene compilato utilizzando l'ottimizzatore \"rmsprop\". Il RMSprop (Root Mean Square Propagation) è un algoritmo di ottimizzazione comunemente utilizzato nell'allenamento delle reti neuronali. A differenza della tradizionale discesa del gradiente Stocastico, RMSprop adatta il compito di apprendimento a ciascun parametro individualmente, in modo da aiutare a convergere più rapidamente su problemi con gradienti di diversa natura. Anche se RMSprop non richiede un compito di apprendimento esplicito, è anche possibile controllarlo indirettamente tramite la regolazione di altri iperparametri. Uno di questi iperparametri è il \"learning_rate\" (learning_rate) che influenza l'entità delle regolazioni del peso durante . Il \"tasso di apprendimento\" iniziale predefinito nell'ottimizzatore è 0.001.\n",
    "Il tasso di apprendimento o learning_rate stabilisce la velocità con cui i parametri di un modello possono cambiare man mano che viene ottimizzato (appreso). Questo iperparametro è uno dei più complicati da stabilire, poiché dipende fortemente dai dati e interagisce con il resto degli iperparametri. Se il tasso di apprendimento è molto elevato, il processo di ottimizzazione può passare da una regione all’altra senza che il modello sia in grado di apprendere. Se, invece, il tasso di apprendimento è molto basso, il processo formativo potrebbe richiedere troppo tempo e non essere completato.\n",
    "La funzione di perdita (loss function) è specificata come \"binary_crossentropy\", che viene comunemente utilizzata per problemi di classificazione binaria. La metrica di valutazione è specificata come \"accuratezza\", che calcolerà l'accuratezza del modello durante l'addestramento e la valutazione.\n",
    "Il modello viene addestrato utilizzando i dati di addestramento. Valutiamo il modello utilizzando i dati di test X_test e y_test.\n",
    "La perdita e l'accuratezza del modello sui dati del test vengono calcolate e visualizzate. Le previsioni vengono effettuate utilizzando il \n",
    "modello addestrato sui dati del test X_test."
   ]
  },
  {
   "cell_type": "code",
   "execution_count": 44,
   "id": "8790a9a5-c52b-40af-b5b2-de8ea766b4e9",
   "metadata": {},
   "outputs": [
    {
     "name": "stdout",
     "output_type": "stream",
     "text": [
      "Epoch 1/50\n"
     ]
    },
    {
     "name": "stdout",
     "output_type": "stream",
     "text": [
      "\u001b[1m32/32\u001b[0m \u001b[32m━━━━━━━━━━━━━━━━━━━━\u001b[0m\u001b[37m\u001b[0m \u001b[1m1s\u001b[0m 9ms/step - accuracy: 0.9944 - loss: 0.0163 - val_accuracy: 0.9420 - val_loss: 0.5940\n",
      "Epoch 2/50\n",
      "\u001b[1m32/32\u001b[0m \u001b[32m━━━━━━━━━━━━━━━━━━━━\u001b[0m\u001b[37m\u001b[0m \u001b[1m0s\u001b[0m 4ms/step - accuracy: 0.9927 - loss: 0.0169 - val_accuracy: 0.9490 - val_loss: 0.5806\n",
      "Epoch 3/50\n",
      "\u001b[1m32/32\u001b[0m \u001b[32m━━━━━━━━━━━━━━━━━━━━\u001b[0m\u001b[37m\u001b[0m \u001b[1m0s\u001b[0m 4ms/step - accuracy: 0.9952 - loss: 0.0158 - val_accuracy: 0.9397 - val_loss: 0.6220\n",
      "Epoch 4/50\n",
      "\u001b[1m32/32\u001b[0m \u001b[32m━━━━━━━━━━━━━━━━━━━━\u001b[0m\u001b[37m\u001b[0m \u001b[1m0s\u001b[0m 4ms/step - accuracy: 0.9916 - loss: 0.0221 - val_accuracy: 0.9443 - val_loss: 0.6119\n",
      "Epoch 5/50\n",
      "\u001b[1m32/32\u001b[0m \u001b[32m━━━━━━━━━━━━━━━━━━━━\u001b[0m\u001b[37m\u001b[0m \u001b[1m0s\u001b[0m 8ms/step - accuracy: 0.9911 - loss: 0.0178 - val_accuracy: 0.9443 - val_loss: 0.5921\n",
      "Epoch 6/50\n",
      "\u001b[1m32/32\u001b[0m \u001b[32m━━━━━━━━━━━━━━━━━━━━\u001b[0m\u001b[37m\u001b[0m \u001b[1m0s\u001b[0m 4ms/step - accuracy: 0.9911 - loss: 0.0170 - val_accuracy: 0.9420 - val_loss: 0.6196\n",
      "Epoch 7/50\n",
      "\u001b[1m32/32\u001b[0m \u001b[32m━━━━━━━━━━━━━━━━━━━━\u001b[0m\u001b[37m\u001b[0m \u001b[1m0s\u001b[0m 4ms/step - accuracy: 0.9966 - loss: 0.0103 - val_accuracy: 0.9327 - val_loss: 0.5794\n",
      "Epoch 8/50\n",
      "\u001b[1m32/32\u001b[0m \u001b[32m━━━━━━━━━━━━━━━━━━━━\u001b[0m\u001b[37m\u001b[0m \u001b[1m0s\u001b[0m 4ms/step - accuracy: 0.9954 - loss: 0.0164 - val_accuracy: 0.9466 - val_loss: 0.6051\n",
      "Epoch 9/50\n",
      "\u001b[1m32/32\u001b[0m \u001b[32m━━━━━━━━━━━━━━━━━━━━\u001b[0m\u001b[37m\u001b[0m \u001b[1m0s\u001b[0m 4ms/step - accuracy: 0.9935 - loss: 0.0145 - val_accuracy: 0.9397 - val_loss: 0.6512\n",
      "Epoch 10/50\n",
      "\u001b[1m32/32\u001b[0m \u001b[32m━━━━━━━━━━━━━━━━━━━━\u001b[0m\u001b[37m\u001b[0m \u001b[1m0s\u001b[0m 4ms/step - accuracy: 0.9920 - loss: 0.0164 - val_accuracy: 0.9397 - val_loss: 0.5966\n",
      "Epoch 11/50\n",
      "\u001b[1m32/32\u001b[0m \u001b[32m━━━━━━━━━━━━━━━━━━━━\u001b[0m\u001b[37m\u001b[0m \u001b[1m0s\u001b[0m 4ms/step - accuracy: 0.9982 - loss: 0.0097 - val_accuracy: 0.9443 - val_loss: 0.6190\n",
      "Epoch 12/50\n",
      "\u001b[1m32/32\u001b[0m \u001b[32m━━━━━━━━━━━━━━━━━━━━\u001b[0m\u001b[37m\u001b[0m \u001b[1m0s\u001b[0m 8ms/step - accuracy: 0.9968 - loss: 0.0125 - val_accuracy: 0.9443 - val_loss: 0.6127\n",
      "Epoch 13/50\n",
      "\u001b[1m32/32\u001b[0m \u001b[32m━━━━━━━━━━━━━━━━━━━━\u001b[0m\u001b[37m\u001b[0m \u001b[1m0s\u001b[0m 4ms/step - accuracy: 0.9938 - loss: 0.0129 - val_accuracy: 0.9443 - val_loss: 0.6429\n",
      "Epoch 14/50\n",
      "\u001b[1m32/32\u001b[0m \u001b[32m━━━━━━━━━━━━━━━━━━━━\u001b[0m\u001b[37m\u001b[0m \u001b[1m0s\u001b[0m 6ms/step - accuracy: 0.9927 - loss: 0.0176 - val_accuracy: 0.9490 - val_loss: 0.6312\n",
      "Epoch 15/50\n",
      "\u001b[1m32/32\u001b[0m \u001b[32m━━━━━━━━━━━━━━━━━━━━\u001b[0m\u001b[37m\u001b[0m \u001b[1m0s\u001b[0m 4ms/step - accuracy: 0.9931 - loss: 0.0157 - val_accuracy: 0.9420 - val_loss: 0.6335\n",
      "Epoch 16/50\n",
      "\u001b[1m32/32\u001b[0m \u001b[32m━━━━━━━━━━━━━━━━━━━━\u001b[0m\u001b[37m\u001b[0m \u001b[1m0s\u001b[0m 4ms/step - accuracy: 0.9959 - loss: 0.0151 - val_accuracy: 0.9397 - val_loss: 0.6703\n",
      "Epoch 17/50\n",
      "\u001b[1m32/32\u001b[0m \u001b[32m━━━━━━━━━━━━━━━━━━━━\u001b[0m\u001b[37m\u001b[0m \u001b[1m0s\u001b[0m 4ms/step - accuracy: 0.9931 - loss: 0.0219 - val_accuracy: 0.9443 - val_loss: 0.6564\n",
      "Epoch 18/50\n",
      "\u001b[1m32/32\u001b[0m \u001b[32m━━━━━━━━━━━━━━━━━━━━\u001b[0m\u001b[37m\u001b[0m \u001b[1m0s\u001b[0m 9ms/step - accuracy: 0.9907 - loss: 0.0159 - val_accuracy: 0.9443 - val_loss: 0.6557\n",
      "Epoch 19/50\n",
      "\u001b[1m32/32\u001b[0m \u001b[32m━━━━━━━━━━━━━━━━━━━━\u001b[0m\u001b[37m\u001b[0m \u001b[1m0s\u001b[0m 3ms/step - accuracy: 0.9925 - loss: 0.0161 - val_accuracy: 0.9397 - val_loss: 0.6969\n",
      "Epoch 20/50\n",
      "\u001b[1m32/32\u001b[0m \u001b[32m━━━━━━━━━━━━━━━━━━━━\u001b[0m\u001b[37m\u001b[0m \u001b[1m0s\u001b[0m 4ms/step - accuracy: 0.9946 - loss: 0.0129 - val_accuracy: 0.9420 - val_loss: 0.6466\n",
      "Epoch 21/50\n",
      "\u001b[1m32/32\u001b[0m \u001b[32m━━━━━━━━━━━━━━━━━━━━\u001b[0m\u001b[37m\u001b[0m \u001b[1m0s\u001b[0m 4ms/step - accuracy: 0.9943 - loss: 0.0122 - val_accuracy: 0.9466 - val_loss: 0.6571\n",
      "Epoch 22/50\n",
      "\u001b[1m32/32\u001b[0m \u001b[32m━━━━━━━━━━━━━━━━━━━━\u001b[0m\u001b[37m\u001b[0m \u001b[1m0s\u001b[0m 6ms/step - accuracy: 0.9976 - loss: 0.0108 - val_accuracy: 0.9397 - val_loss: 0.6433\n",
      "Epoch 23/50\n",
      "\u001b[1m32/32\u001b[0m \u001b[32m━━━━━━━━━━━━━━━━━━━━\u001b[0m\u001b[37m\u001b[0m \u001b[1m0s\u001b[0m 4ms/step - accuracy: 0.9953 - loss: 0.0140 - val_accuracy: 0.9420 - val_loss: 0.6692\n",
      "Epoch 24/50\n",
      "\u001b[1m32/32\u001b[0m \u001b[32m━━━━━━━━━━━━━━━━━━━━\u001b[0m\u001b[37m\u001b[0m \u001b[1m0s\u001b[0m 4ms/step - accuracy: 0.9972 - loss: 0.0147 - val_accuracy: 0.9466 - val_loss: 0.6601\n",
      "Epoch 25/50\n",
      "\u001b[1m32/32\u001b[0m \u001b[32m━━━━━━━━━━━━━━━━━━━━\u001b[0m\u001b[37m\u001b[0m \u001b[1m0s\u001b[0m 4ms/step - accuracy: 0.9959 - loss: 0.0156 - val_accuracy: 0.9443 - val_loss: 0.6610\n",
      "Epoch 26/50\n",
      "\u001b[1m32/32\u001b[0m \u001b[32m━━━━━━━━━━━━━━━━━━━━\u001b[0m\u001b[37m\u001b[0m \u001b[1m0s\u001b[0m 4ms/step - accuracy: 0.9934 - loss: 0.0155 - val_accuracy: 0.9420 - val_loss: 0.7214\n",
      "Epoch 27/50\n",
      "\u001b[1m32/32\u001b[0m \u001b[32m━━━━━━━━━━━━━━━━━━━━\u001b[0m\u001b[37m\u001b[0m \u001b[1m0s\u001b[0m 4ms/step - accuracy: 0.9935 - loss: 0.0253 - val_accuracy: 0.9466 - val_loss: 0.6775\n",
      "Epoch 28/50\n",
      "\u001b[1m32/32\u001b[0m \u001b[32m━━━━━━━━━━━━━━━━━━━━\u001b[0m\u001b[37m\u001b[0m \u001b[1m0s\u001b[0m 4ms/step - accuracy: 0.9948 - loss: 0.0105 - val_accuracy: 0.9397 - val_loss: 0.6677\n",
      "Epoch 29/50\n",
      "\u001b[1m32/32\u001b[0m \u001b[32m━━━━━━━━━━━━━━━━━━━━\u001b[0m\u001b[37m\u001b[0m \u001b[1m0s\u001b[0m 4ms/step - accuracy: 0.9954 - loss: 0.0106 - val_accuracy: 0.9397 - val_loss: 0.7125\n",
      "Epoch 30/50\n",
      "\u001b[1m32/32\u001b[0m \u001b[32m━━━━━━━━━━━━━━━━━━━━\u001b[0m\u001b[37m\u001b[0m \u001b[1m0s\u001b[0m 8ms/step - accuracy: 0.9934 - loss: 0.0120 - val_accuracy: 0.9420 - val_loss: 0.7041\n",
      "Epoch 31/50\n",
      "\u001b[1m32/32\u001b[0m \u001b[32m━━━━━━━━━━━━━━━━━━━━\u001b[0m\u001b[37m\u001b[0m \u001b[1m0s\u001b[0m 4ms/step - accuracy: 0.9976 - loss: 0.0075 - val_accuracy: 0.9420 - val_loss: 0.6857\n",
      "Epoch 32/50\n",
      "\u001b[1m32/32\u001b[0m \u001b[32m━━━━━━━━━━━━━━━━━━━━\u001b[0m\u001b[37m\u001b[0m \u001b[1m0s\u001b[0m 4ms/step - accuracy: 0.9978 - loss: 0.0099 - val_accuracy: 0.9327 - val_loss: 0.6711\n",
      "Epoch 33/50\n",
      "\u001b[1m32/32\u001b[0m \u001b[32m━━━━━━━━━━━━━━━━━━━━\u001b[0m\u001b[37m\u001b[0m \u001b[1m0s\u001b[0m 5ms/step - accuracy: 0.9909 - loss: 0.0182 - val_accuracy: 0.9443 - val_loss: 0.7033\n",
      "Epoch 34/50\n",
      "\u001b[1m32/32\u001b[0m \u001b[32m━━━━━━━━━━━━━━━━━━━━\u001b[0m\u001b[37m\u001b[0m \u001b[1m0s\u001b[0m 4ms/step - accuracy: 0.9939 - loss: 0.0096 - val_accuracy: 0.9327 - val_loss: 0.6738\n",
      "Epoch 35/50\n",
      "\u001b[1m32/32\u001b[0m \u001b[32m━━━━━━━━━━━━━━━━━━━━\u001b[0m\u001b[37m\u001b[0m \u001b[1m0s\u001b[0m 4ms/step - accuracy: 0.9973 - loss: 0.0122 - val_accuracy: 0.9304 - val_loss: 0.6648\n",
      "Epoch 36/50\n",
      "\u001b[1m32/32\u001b[0m \u001b[32m━━━━━━━━━━━━━━━━━━━━\u001b[0m\u001b[37m\u001b[0m \u001b[1m0s\u001b[0m 7ms/step - accuracy: 0.9947 - loss: 0.0124 - val_accuracy: 0.9374 - val_loss: 0.6845\n",
      "Epoch 37/50\n",
      "\u001b[1m32/32\u001b[0m \u001b[32m━━━━━━━━━━━━━━━━━━━━\u001b[0m\u001b[37m\u001b[0m \u001b[1m0s\u001b[0m 6ms/step - accuracy: 0.9905 - loss: 0.0218 - val_accuracy: 0.9420 - val_loss: 0.7180\n",
      "Epoch 38/50\n",
      "\u001b[1m32/32\u001b[0m \u001b[32m━━━━━━━━━━━━━━━━━━━━\u001b[0m\u001b[37m\u001b[0m \u001b[1m0s\u001b[0m 5ms/step - accuracy: 0.9946 - loss: 0.0123 - val_accuracy: 0.9443 - val_loss: 0.7235\n",
      "Epoch 39/50\n",
      "\u001b[1m32/32\u001b[0m \u001b[32m━━━━━━━━━━━━━━━━━━━━\u001b[0m\u001b[37m\u001b[0m \u001b[1m0s\u001b[0m 5ms/step - accuracy: 0.9889 - loss: 0.0214 - val_accuracy: 0.9420 - val_loss: 0.6941\n",
      "Epoch 40/50\n",
      "\u001b[1m32/32\u001b[0m \u001b[32m━━━━━━━━━━━━━━━━━━━━\u001b[0m\u001b[37m\u001b[0m \u001b[1m0s\u001b[0m 4ms/step - accuracy: 0.9943 - loss: 0.0146 - val_accuracy: 0.9466 - val_loss: 0.7399\n",
      "Epoch 41/50\n",
      "\u001b[1m32/32\u001b[0m \u001b[32m━━━━━━━━━━━━━━━━━━━━\u001b[0m\u001b[37m\u001b[0m \u001b[1m0s\u001b[0m 5ms/step - accuracy: 0.9918 - loss: 0.0176 - val_accuracy: 0.9397 - val_loss: 0.7468\n",
      "Epoch 42/50\n",
      "\u001b[1m32/32\u001b[0m \u001b[32m━━━━━━━━━━━━━━━━━━━━\u001b[0m\u001b[37m\u001b[0m \u001b[1m0s\u001b[0m 7ms/step - accuracy: 0.9925 - loss: 0.0278 - val_accuracy: 0.9443 - val_loss: 0.7256\n",
      "Epoch 43/50\n",
      "\u001b[1m32/32\u001b[0m \u001b[32m━━━━━━━━━━━━━━━━━━━━\u001b[0m\u001b[37m\u001b[0m \u001b[1m0s\u001b[0m 4ms/step - accuracy: 0.9957 - loss: 0.0083 - val_accuracy: 0.9420 - val_loss: 0.7253\n",
      "Epoch 44/50\n",
      "\u001b[1m32/32\u001b[0m \u001b[32m━━━━━━━━━━━━━━━━━━━━\u001b[0m\u001b[37m\u001b[0m \u001b[1m0s\u001b[0m 5ms/step - accuracy: 0.9979 - loss: 0.0095 - val_accuracy: 0.9443 - val_loss: 0.7526\n",
      "Epoch 45/50\n",
      "\u001b[1m32/32\u001b[0m \u001b[32m━━━━━━━━━━━━━━━━━━━━\u001b[0m\u001b[37m\u001b[0m \u001b[1m0s\u001b[0m 4ms/step - accuracy: 0.9967 - loss: 0.0072 - val_accuracy: 0.9327 - val_loss: 0.7119\n",
      "Epoch 46/50\n",
      "\u001b[1m32/32\u001b[0m \u001b[32m━━━━━━━━━━━━━━━━━━━━\u001b[0m\u001b[37m\u001b[0m \u001b[1m0s\u001b[0m 4ms/step - accuracy: 0.9974 - loss: 0.0111 - val_accuracy: 0.9397 - val_loss: 0.8007\n",
      "Epoch 47/50\n",
      "\u001b[1m32/32\u001b[0m \u001b[32m━━━━━━━━━━━━━━━━━━━━\u001b[0m\u001b[37m\u001b[0m \u001b[1m0s\u001b[0m 8ms/step - accuracy: 0.9954 - loss: 0.0081 - val_accuracy: 0.9374 - val_loss: 0.7513\n",
      "Epoch 48/50\n",
      "\u001b[1m32/32\u001b[0m \u001b[32m━━━━━━━━━━━━━━━━━━━━\u001b[0m\u001b[37m\u001b[0m \u001b[1m0s\u001b[0m 4ms/step - accuracy: 0.9969 - loss: 0.0099 - val_accuracy: 0.9397 - val_loss: 0.7543\n",
      "Epoch 49/50\n",
      "\u001b[1m32/32\u001b[0m \u001b[32m━━━━━━━━━━━━━━━━━━━━\u001b[0m\u001b[37m\u001b[0m \u001b[1m0s\u001b[0m 4ms/step - accuracy: 0.9926 - loss: 0.0132 - val_accuracy: 0.9374 - val_loss: 0.7464\n",
      "Epoch 50/50\n",
      "\u001b[1m32/32\u001b[0m \u001b[32m━━━━━━━━━━━━━━━━━━━━\u001b[0m\u001b[37m\u001b[0m \u001b[1m0s\u001b[0m 4ms/step - accuracy: 0.9994 - loss: 0.0048 - val_accuracy: 0.9350 - val_loss: 0.7357\n",
      "\u001b[1m14/14\u001b[0m \u001b[32m━━━━━━━━━━━━━━━━━━━━\u001b[0m\u001b[37m\u001b[0m \u001b[1m0s\u001b[0m 2ms/step - accuracy: 0.9424 - loss: 0.5966 \n",
      "Loss: 0.7357438206672668, Accuracy: 0.9350348114967346\n",
      "\u001b[1m14/14\u001b[0m \u001b[32m━━━━━━━━━━━━━━━━━━━━\u001b[0m\u001b[37m\u001b[0m \u001b[1m0s\u001b[0m 4ms/step\n"
     ]
    }
   ],
   "source": [
    "# Compilación del modelo\n",
    "model.compile(optimizer='rmsprop', loss='binary_crossentropy', metrics=['accuracy'])\n",
    "\n",
    "# Entrenamiento del modelo\n",
    "history = model.fit(X_train, y_train, epochs=50, batch_size=32, validation_data=(X_test, y_test))\n",
    "\n",
    "# Evaluación del modelo\n",
    "loss, accuracy = model.evaluate(X_test, y_test)\n",
    "print(f\"Loss: {loss}, Accuracy: {accuracy}\")\n",
    "\n",
    "# Predicciones\n",
    "predictions = model.predict(X_test)"
   ]
  },
  {
   "cell_type": "markdown",
   "id": "0988b3db-7eb7-4c10-be47-16134edb9d26",
   "metadata": {},
   "source": [
    "La funzione di perdita (loss function) è una parte fondamentale del processo di addestramento del modello di rete neurale. Questa funzione valuta le prestazioni del modello ad ogni iterazione durante l'addestramento, confrontando le previsioni del modello con i valori effettivi dei dati di addestramento. L'obiettivo durante l'addestramento è ridurre al minimo la funzione di perdita, il che significa che il modello fa previsioni più vicine ai valori effettivi. In questo caso, la funzione di perdita utilizzata è la \"Binary Crossentropy\". Questa funzione di perdita è comunemente utilizzata nei problemi di classificazione binaria, quando il modello deve prevedere tra due classi mutuamente esclusive, come \"sì\" o \"no\", \"positivo\" o \"negativo\". La funzione di perdita di Binary Crossentropy calcola la perdita tra le etichette vere e le previsioni del modello per ciascun esempio di training. La crossentropia binaria penalizza pesantemente le previsioni errate. Se l'etichetta vera è 1 e la previsione del modello è vicina a 0, o se l'etichetta vera è 0 e la previsione del modello è vicina a 1, la perdita sarà elevata. D’altra parte, se la previsione del modello è vicina all’etichetta reale, la perdita sarà bassa. Nell'addestramento del modello, l'obiettivo è ridurre al minimo la Binary Crossentropy, il che significa che il modello sta imparando a fare previsioni che si adattino il più fedelmente possibile alle etichette reali. "
   ]
  },
  {
   "cell_type": "markdown",
   "id": "351f8f0f-1d0f-485c-b2de-ae3444e4f73f",
   "metadata": {},
   "source": [
    "## PLOTING\n",
    "Come vediamo nell'output seguente, la funzione di perdita nel set di dati di training diminuisce all'aumentare del numero di epoche, che è il comportamento desiderato, inizia con un valore di .4224 e termina con una perdita di .0269. Questo comportamento non è lo stesso quando si utilizza il set di dati di test (test_set), che all'aumentare delle epoche aumenta la funzione di perdita.\n",
    "Per quanto riguarda l'accuratezza, notiamo che nel training set ottiene un valore del 99,5% nelle ultime epoche, ma nel test set questa accuratezza si riduce al 94,2%. Potremmo cadere in un eccesso di adattamento, overfitting"
   ]
  },
  {
   "cell_type": "code",
   "execution_count": 45,
   "id": "c49e53e8-7f7f-4681-9aa9-0ed4e2b46f66",
   "metadata": {},
   "outputs": [
    {
     "data": {
      "image/png": "[encoded data removed]",
      "text/plain": [
       "<Figure size 640x480 with 1 Axes>"
      ]
     },
     "metadata": {},
     "output_type": "display_data"
    }
   ],
   "source": [
    "plt.clf()\n",
    "loss = history.history[\"loss\"]\n",
    "val_loss = history.history[\"val_loss\"]\n",
    "epochs = range(1, len(loss) + 1)\n",
    "plt.plot(epochs, loss, \"bo\", label=\"Training loss\")\n",
    "plt.plot(epochs, val_loss, \"b\", label=\"Validation loss\")\n",
    "plt.title(\"Training and validation loss\")\n",
    "plt.xlabel(\"Epochs\")\n",
    "plt.ylabel(\"Loss\")\n",
    "plt.legend()\n",
    "plt.show()"
   ]
  },
  {
   "cell_type": "code",
   "execution_count": 43,
   "id": "fc8aaf6c-c0ac-419b-848c-72eb03de3148",
   "metadata": {},
   "outputs": [
    {
     "data": {
      "image/png": "[encoded data removed]",
      "text/plain": [
       "<Figure size 640x480 with 1 Axes>"
      ]
     },
     "metadata": {},
     "output_type": "display_data"
    }
   ],
   "source": [
    "plt.clf() #Clears the figure\n",
    "acc = history.history[\"accuracy\"]\n",
    "val_acc = history.history[\"val_accuracy\"]\n",
    "plt.plot(epochs, acc, \"bo\", label=\"Training accuracy\")\n",
    "plt.plot(epochs, val_acc, \"b\", label=\"Validation accuracy\")\n",
    "plt.title(\"Training and validation accuracy\")\n",
    "plt.xlabel(\"Epochs\")\n",
    "plt.ylabel(\"Accuracy\")\n",
    "plt.legend()\n",
    "plt.show()"
   ]
  },
  {
   "cell_type": "markdown",
   "id": "32764695-7bae-489a-beed-eddf80d90f15",
   "metadata": {},
   "source": [
    "Per una migliore comprensione dell'accuratezza ottenuta, includiamo gli altri punteggi:"
   ]
  },
  {
   "cell_type": "code",
   "execution_count": 37,
   "id": "548b92d5-a9bf-43a2-afae-6b0a1ef09d44",
   "metadata": {},
   "outputs": [
    {
     "name": "stdout",
     "output_type": "stream",
     "text": [
      "\u001b[1m14/14\u001b[0m \u001b[32m━━━━━━━━━━━━━━━━━━━━\u001b[0m\u001b[37m\u001b[0m \u001b[1m0s\u001b[0m 7ms/step\n",
      "Accuracy: 0.9396751740139211, Precision: 0.6428571428571429, Recall: 0.3, F1-score: 0.4090909090909091, Specificity: 0.9875311720698254, ROC AUC: 0.7195344970906069\n"
     ]
    }
   ],
   "source": [
    "from sklearn.metrics import accuracy_score, precision_score, recall_score, f1_score, confusion_matrix, roc_auc_score\n",
    "\n",
    "# Realizar predicciones\n",
    "predictions = model.predict(X_test)\n",
    "\n",
    "# Convertir las predicciones a etiquetas binarias\n",
    "predictions_binary = (predictions > 0.5).astype(int)\n",
    "\n",
    "# Calcular métricas\n",
    "accuracy = accuracy_score(y_test, predictions_binary)\n",
    "precision = precision_score(y_test, predictions_binary)\n",
    "recall = recall_score(y_test, predictions_binary)\n",
    "f1 = f1_score(y_test, predictions_binary)\n",
    "conf_matrix = confusion_matrix(y_test, predictions_binary)\n",
    "specificity = conf_matrix[0, 0] / (conf_matrix[0, 0] + conf_matrix[0, 1])\n",
    "roc_auc = roc_auc_score(y_test, predictions)\n",
    "\n",
    "# Imprimir las métricas\n",
    "print(f\"Accuracy: {accuracy}, Precision: {precision}, Recall: {recall}, F1-score: {f1}, Specificity: {specificity}, ROC AUC: {roc_auc}\")"
   ]
  },
  {
   "cell_type": "markdown",
   "id": "1c22efb1-8eda-414c-91c4-26512a6d6e68",
   "metadata": {},
   "source": [
    "## CONCLUSIONE\n",
    "Come puoi vedere l'accuratezza ottenuta è pari a circa il 94,77%, bisogna precisare che questa accuratezza può variare in base al numero di volte in cui si ruota il codice. Rispetto all'articolo a cui abbiamo fatto riferimento in precedenza, abbiamo aggiunto i risultati ottenuti per la valutazione.\n",
    "L'autore afferma che il modello MLP (Perceptron multistrato) si distingue come il miglior classificatore tra gli altri modelli con una accuratezza del 92,06% tenendo conto degli altri attributi,\tPrecision, Recall, F1-Score, Specificity e AUC-ROC.L'autore prosegue dicendo che inoltre, Random Forest e XGBoost possono avere un punteggio di accuratezza importante, ma esiste una disparità tra Precision, Recall, F1-Score, Specificity,  AUC-ROC, che porta a un punteggio basso dal MLP. Questo è un problema comune soprattutto quando si ha a che fare con dati sbilanciati, in questo caso i valori positivi sono la classe minoritaria. I risultati ottenuti sono abbastanza simili a quelli ottenuti dall'autore del paper, con accuratezza simile, non tanto per gli altri parametri ma accettabili. Possiamo aggiungere che il pre-processing iniziale dei dati in questo lavoro è diversa da quella effettuata dall'autore dell'articolo. Nonostante ciò, il modello ottiene un accuratezza elevata, abbastanza simile a quelli ottenuti nella ricerca originale."
   ]
  },
  {
   "cell_type": "markdown",
   "id": "6986e3df-8cd4-4a7e-aaa2-21ce3d6f2a0d",
   "metadata": {},
   "source": [
    "## Modifica de la rete costruita\n",
    "Gli iperparametri della rete modificabili cercano la soluzione migliore ed evitano l'overfitting. I parametri maggiormente modificati sono il learning_rate di cui abbiamo discusso in precedenza, il parametro epochs, il parametro batch_size e l'ottimizzatore. Possiamo anche includere la struttura della rete, eliminando nodi e strai, oppure aggiungendo ma l'architettura implementata ottiene buoni risultati. I parametri su cui non ci concentreremo sono epochs, learning_rate e batch_size.\n",
    "\n",
    "Il parametro \"epochs\" nel contesto dell'addestramento dei modelli di rete neurale si riferisce al numero di volte in cui il modello vedrà l'intero set di dati durante il processo di addestramento. Ogni iterazione dell'intero set di dati è nota come \"epochs\".\n",
    "Durante ogni epochs, il modello adegua i propri pesi attraverso il processo di backpropagation dell'errore, in cui i gradienti vengono calcolati rispetto alla funzione di perdita e utilizzati per aggiornare i parametri del modello (pesi e bias) attraverso un algoritmo di ottimizzazione, come la discesa stocastica del gradiente ( SGD), Adam e RMSprop.\n",
    "Il numero di epoche è un iperparametro che viene ottimizzato durante l'addestramento del modello e può influire in modo significativo sulle prestazioni del modello. Se vengono utilizzate troppe epoche, esiste il rischio di overfitting, ovvero il modello si adatta eccessivamente ai dati di addestramento e non si generalizza bene ai nuovi dati. D'altra parte, se vengono utilizzate troppo poche epoche, il modello potrebbe non apprendere abbastanza e ottenere prestazioni scadenti.\n",
    "Pertanto, il valore delle epoche viene tipicamente scelto valutando le prestazioni del modello su un set di validazione durante l'addestramento con valori diversi di questo parametro. Questo viene fatto per trovare il giusto equilibrio tra adattamento del modello e generalizzabilità.\n",
    "\n",
    "Il parametro batch_size nel contesto dell'addestramento dei modelli di rete neurale si riferisce al numero di esempi di addestramento utilizzati in un'iterazione per calcolare il gradiente e aggiornare i pesi del modello.\n",
    "Durante il processo di addestramento, i dati di addestramento vengono divisi in batch e il modello viene addestrato utilizzando un batch alla volta. Dopo aver elaborato una serie completa di esempi di addestramento, il gradiente della funzione di perdita viene calcolato rispetto ai pesi del modello e i pesi vengono aggiornati utilizzando un algoritmo di ottimizzazione, come la discesa del gradiente stocastico (SGD), Adam e RMSprop.\n",
    "La dimensione del batch (batch_size) è un iperparametro che viene ottimizzato durante il training del modello e può influire sulle prestazioni e sulla convergenza del modello. Alcuni valori comuni per la dimensione del lotto sono solitamente compresi tra 32, 64, 128 o 256, ma non esiste una regola fissa e potrebbe essere necessario sperimentare valori diversi per trovare quello più adatto al tuo caso. problema specifico.\n",
    "\n",
    "Anche altra funzione per evitare l'overfitting è la funzione Dropout che è una tecnica di regolarizzazione comunemente utilizzata nei neuroni per evitare il sobreajuste. In questo caso, il parametro 0.3 indica la tasa de abbandono (tasso di abbandono), che è la frazione delle unità del capa di ingresso che se dejan fuera dal rosso in ogni aggiornamento del passo hacia adelante (passaggio in avanti) durante l'allenamento . In altre parole, il 30% delle unità viene temporaneamente lasciato fuori dal rosso durante l'allenamento, il che significa che i suoi contributi alle attivazioni del capitolo successivo si stabilizzeranno a zero. Questo aiuta a prevenire il sobreajuste al desalentare la cooperazione eccessiva tra i neuroni, che conduce ad un rosso più robusto e generalizzabile. Durante la valutazione o l'inferenza, tutte le unità vengono utilizzate poiché il Dropout non viene applicato in questo momento.\n",
    "\n",
    "\n"
   ]
  },
  {
   "cell_type": "code",
   "execution_count": 38,
   "id": "b750df1e-a68d-4bb5-8c70-470b463cc783",
   "metadata": {},
   "outputs": [
    {
     "name": "stdout",
     "output_type": "stream",
     "text": [
      "Epoch 1/15\n"
     ]
    },
    {
     "name": "stdout",
     "output_type": "stream",
     "text": [
      "\u001b[1m26/26\u001b[0m \u001b[32m━━━━━━━━━━━━━━━━━━━━\u001b[0m\u001b[37m\u001b[0m \u001b[1m2s\u001b[0m 21ms/step - accuracy: 0.8383 - loss: 0.5286 - val_accuracy: 0.9304 - val_loss: 0.3320\n",
      "Epoch 2/15\n",
      "\u001b[1m26/26\u001b[0m \u001b[32m━━━━━━━━━━━━━━━━━━━━\u001b[0m\u001b[37m\u001b[0m \u001b[1m0s\u001b[0m 8ms/step - accuracy: 0.9502 - loss: 0.2748 - val_accuracy: 0.9304 - val_loss: 0.2384\n",
      "Epoch 3/15\n",
      "\u001b[1m26/26\u001b[0m \u001b[32m━━━━━━━━━━━━━━━━━━━━\u001b[0m\u001b[37m\u001b[0m \u001b[1m0s\u001b[0m 6ms/step - accuracy: 0.9551 - loss: 0.1909 - val_accuracy: 0.9304 - val_loss: 0.2326\n",
      "Epoch 4/15\n",
      "\u001b[1m26/26\u001b[0m \u001b[32m━━━━━━━━━━━━━━━━━━━━\u001b[0m\u001b[37m\u001b[0m \u001b[1m0s\u001b[0m 4ms/step - accuracy: 0.9495 - loss: 0.1979 - val_accuracy: 0.9304 - val_loss: 0.2287\n",
      "Epoch 5/15\n",
      "\u001b[1m26/26\u001b[0m \u001b[32m━━━━━━━━━━━━━━━━━━━━\u001b[0m\u001b[37m\u001b[0m \u001b[1m0s\u001b[0m 4ms/step - accuracy: 0.9490 - loss: 0.2116 - val_accuracy: 0.9304 - val_loss: 0.2218\n",
      "Epoch 6/15\n",
      "\u001b[1m26/26\u001b[0m \u001b[32m━━━━━━━━━━━━━━━━━━━━\u001b[0m\u001b[37m\u001b[0m \u001b[1m0s\u001b[0m 4ms/step - accuracy: 0.9482 - loss: 0.1775 - val_accuracy: 0.9304 - val_loss: 0.2154\n",
      "Epoch 7/15\n",
      "\u001b[1m26/26\u001b[0m \u001b[32m━━━━━━━━━━━━━━━━━━━━\u001b[0m\u001b[37m\u001b[0m \u001b[1m0s\u001b[0m 4ms/step - accuracy: 0.9451 - loss: 0.1665 - val_accuracy: 0.9304 - val_loss: 0.2107\n",
      "Epoch 8/15\n",
      "\u001b[1m26/26\u001b[0m \u001b[32m━━━━━━━━━━━━━━━━━━━━\u001b[0m\u001b[37m\u001b[0m \u001b[1m0s\u001b[0m 4ms/step - accuracy: 0.9644 - loss: 0.1311 - val_accuracy: 0.9304 - val_loss: 0.2064\n",
      "Epoch 9/15\n",
      "\u001b[1m26/26\u001b[0m \u001b[32m━━━━━━━━━━━━━━━━━━━━\u001b[0m\u001b[37m\u001b[0m \u001b[1m0s\u001b[0m 4ms/step - accuracy: 0.9572 - loss: 0.1500 - val_accuracy: 0.9304 - val_loss: 0.2022\n",
      "Epoch 10/15\n",
      "\u001b[1m26/26\u001b[0m \u001b[32m━━━━━━━━━━━━━━━━━━━━\u001b[0m\u001b[37m\u001b[0m \u001b[1m0s\u001b[0m 4ms/step - accuracy: 0.9600 - loss: 0.1485 - val_accuracy: 0.9304 - val_loss: 0.1971\n",
      "Epoch 11/15\n",
      "\u001b[1m26/26\u001b[0m \u001b[32m━━━━━━━━━━━━━━━━━━━━\u001b[0m\u001b[37m\u001b[0m \u001b[1m0s\u001b[0m 4ms/step - accuracy: 0.9637 - loss: 0.1377 - val_accuracy: 0.9304 - val_loss: 0.2018\n",
      "Epoch 12/15\n",
      "\u001b[1m26/26\u001b[0m \u001b[32m━━━━━━━━━━━━━━━━━━━━\u001b[0m\u001b[37m\u001b[0m \u001b[1m0s\u001b[0m 4ms/step - accuracy: 0.9504 - loss: 0.1607 - val_accuracy: 0.9304 - val_loss: 0.1991\n",
      "Epoch 13/15\n",
      "\u001b[1m26/26\u001b[0m \u001b[32m━━━━━━━━━━━━━━━━━━━━\u001b[0m\u001b[37m\u001b[0m \u001b[1m0s\u001b[0m 4ms/step - accuracy: 0.9640 - loss: 0.1417 - val_accuracy: 0.9327 - val_loss: 0.1987\n",
      "Epoch 14/15\n",
      "\u001b[1m26/26\u001b[0m \u001b[32m━━━━━━━━━━━━━━━━━━━━\u001b[0m\u001b[37m\u001b[0m \u001b[1m0s\u001b[0m 4ms/step - accuracy: 0.9682 - loss: 0.1278 - val_accuracy: 0.9327 - val_loss: 0.1980\n",
      "Epoch 15/15\n",
      "\u001b[1m26/26\u001b[0m \u001b[32m━━━━━━━━━━━━━━━━━━━━\u001b[0m\u001b[37m\u001b[0m \u001b[1m0s\u001b[0m 3ms/step - accuracy: 0.9584 - loss: 0.1523 - val_accuracy: 0.9350 - val_loss: 0.1965\n",
      "\u001b[1m14/14\u001b[0m \u001b[32m━━━━━━━━━━━━━━━━━━━━\u001b[0m\u001b[37m\u001b[0m \u001b[1m0s\u001b[0m 4ms/step - accuracy: 0.9395 - loss: 0.2020 \n",
      "Loss: 0.19523169100284576, Accuracy: 0.9350348114967346\n",
      "\u001b[1m14/14\u001b[0m \u001b[32m━━━━━━━━━━━━━━━━━━━━\u001b[0m\u001b[37m\u001b[0m \u001b[1m0s\u001b[0m 5ms/step\n"
     ]
    }
   ],
   "source": [
    "from keras.optimizers import RMSprop, Adam\n",
    "model_1 = Sequential([\n",
    "    Input(shape=(X_train.shape[1],)),\n",
    "    Dense(32, activation='relu'),\n",
    "    Dense(16, activation='relu'),\n",
    "    Dropout(0.3), \n",
    "    Dense(1, activation='sigmoid')\n",
    "])\n",
    "#Definir el valor de la tasa de aprendizaje\n",
    "learning_rate = 0.001  \n",
    "# Crear un objeto optimizador RMSprop con la tasa de aprendizaje especificada\n",
    "optimizer = Adam(learning_rate=learning_rate)\n",
    "\n",
    "# Compilación del modelo\n",
    "model_1.compile(optimizer=optimizer, loss='binary_crossentropy', metrics=['accuracy'])\n",
    "\n",
    "# Entrenamiento del modelo\n",
    "history_1=model_1.fit(X_train, y_train, epochs=15, batch_size=40, validation_data=(X_test, y_test))\n",
    "\n",
    "# Evaluación del modelo\n",
    "loss, accuracy = model_1.evaluate(X_test, y_test)\n",
    "print(f\"Loss: {loss}, Accuracy: {accuracy}\")\n",
    "\n",
    "# Predicciones\n",
    "predictions_1 = model_1.predict(X_test)"
   ]
  },
  {
   "cell_type": "code",
   "execution_count": 39,
   "id": "c6ce9be4-4104-470c-b762-f8e4abecf7c0",
   "metadata": {},
   "outputs": [
    {
     "data": {
      "image/png": "[encoded data removed]",
      "text/plain": [
       "<Figure size 640x480 with 1 Axes>"
      ]
     },
     "metadata": {},
     "output_type": "display_data"
    }
   ],
   "source": [
    "plt.clf()\n",
    "loss = history_1.history[\"loss\"]\n",
    "val_loss = history_1.history[\"val_loss\"]\n",
    "epochs = range(1, len(loss) + 1)\n",
    "plt.plot(epochs, loss, \"bo\", label=\"Training loss\")\n",
    "plt.plot(epochs, val_loss, \"b\", label=\"Validation loss\")\n",
    "plt.title(\"Training and validation loss\")\n",
    "plt.xlabel(\"Epochs\")\n",
    "plt.ylabel(\"Loss\")\n",
    "plt.legend()\n",
    "plt.show()"
   ]
  },
  {
   "cell_type": "markdown",
   "id": "dbc1765b-3b5d-4997-96e1-37a63b4b583f",
   "metadata": {},
   "source": [
    "Come vediamo, la rete precedente è stata modificata nei parametri epochs=15, batch_size=40. Vedendo graficamente la funzione di perdita del modello \n",
    "precedente, possiamo dedurre che dopo di 10 epoche si verifica un overfitting dei dati e qui la funzione di perdita inizia a crescere. L'accuratezza di 93.8% diminuisce rispetto alla precedente, ma è comunque accettabile"
   ]
  },
  {
   "cell_type": "code",
   "execution_count": 40,
   "id": "7c95aa5e-41a2-4ed2-ac92-f334a2cf1b33",
   "metadata": {},
   "outputs": [
    {
     "name": "stdout",
     "output_type": "stream",
     "text": [
      "\u001b[1m14/14\u001b[0m \u001b[32m━━━━━━━━━━━━━━━━━━━━\u001b[0m\u001b[37m\u001b[0m \u001b[1m0s\u001b[0m 2ms/step \n",
      "Accuracy: 0.9396751740139211, Precision: 0.6428571428571429, Recall: 0.3, F1-score: 0.4090909090909091, Specificity: 0.9875311720698254, ROC AUC: 0.7195344970906069\n"
     ]
    }
   ],
   "source": [
    "from sklearn.metrics import accuracy_score, precision_score, recall_score, f1_score, confusion_matrix, roc_auc_score\n",
    "\n",
    "# Realizar predicciones\n",
    "predictions1 = model.predict(X_test)\n",
    "\n",
    "# Convertir las predicciones a etiquetas binarias\n",
    "predictions_binary1 = (predictions1 > 0.5).astype(int)\n",
    "\n",
    "# Calcular métricas\n",
    "accuracy1 = accuracy_score(y_test, predictions_binary1)\n",
    "precision1 = precision_score(y_test, predictions_binary1)\n",
    "recall1 = recall_score(y_test, predictions_binary1)\n",
    "f1_ = f1_score(y_test, predictions_binary1)\n",
    "conf_matrix1 = confusion_matrix(y_test, predictions_binary1)\n",
    "specificity1 = conf_matrix1[0, 0] / (conf_matrix1[0, 0] + conf_matrix1[0, 1])\n",
    "roc_auc1 = roc_auc_score(y_test, predictions1)\n",
    "\n",
    "# Imprimir las métricas\n",
    "print(f\"Accuracy: {accuracy1}, Precision: {precision1}, Recall: {recall1}, F1-score: {f1_}, Specificity: {specificity1}, ROC AUC: {roc_auc1}\")"
   ]
  }
 ],
 "metadata": {
  "kernelspec": {
   "display_name": "Python 3 (ipykernel)",
   "language": "python",
   "name": "python3"
  },
  "language_info": {
   "codemirror_mode": {
    "name": "ipython",
    "version": 3
   },
   "file_extension": ".py",
   "mimetype": "text/x-python",
   "name": "python",
   "nbconvert_exporter": "python",
   "pygments_lexer": "ipython3",
   "version": "3.11.0"
  }
 },
 "nbformat": 4,
 "nbformat_minor": 5
}
